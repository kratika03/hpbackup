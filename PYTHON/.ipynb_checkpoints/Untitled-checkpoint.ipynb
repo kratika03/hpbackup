{
 "cells": [
  {
   "cell_type": "code",
   "execution_count": 10,
   "id": "fcdd5223-0129-428d-818a-9dc9ac26e21f",
   "metadata": {
    "tags": []
   },
   "outputs": [
    {
     "name": "stdin",
     "output_type": "stream",
     "text": [
      "Enter the number 2\n",
      "Enter the number 3\n",
      " -\n"
     ]
    }
   ],
   "source": [
    "num1 = int(input(\"Enter the number\"))\n",
    "num2 = int(input(\"Enter the number\"))\n",
    "operation = input(\"\")\n",
    "if operation == \"+\":\n",
    "    print(num1+num2)    "
   ]
  },
  {
   "cell_type": "code",
   "execution_count": 4,
   "id": "60efa258-0f57-4c8b-ba56-e128d06a2503",
   "metadata": {
    "tags": []
   },
   "outputs": [
    {
     "ename": "SyntaxError",
     "evalue": "incomplete input (1124327306.py, line 1)",
     "output_type": "error",
     "traceback": [
      "\u001b[1;36m  Cell \u001b[1;32mIn[4], line 1\u001b[1;36m\u001b[0m\n\u001b[1;33m    a = int(input(\"Enter the number\")\u001b[0m\n\u001b[1;37m                                     ^\u001b[0m\n\u001b[1;31mSyntaxError\u001b[0m\u001b[1;31m:\u001b[0m incomplete input\n"
     ]
    }
   ],
   "source": [
    "a = int(input(\"Enter the number\")"
   ]
  },
  {
   "cell_type": "code",
   "execution_count": 18,
   "id": "264c40fc-3fe6-470d-820e-719d03138e79",
   "metadata": {
    "tags": []
   },
   "outputs": [
    {
     "name": "stdin",
     "output_type": "stream",
     "text": [
      "Enter a number 3\n",
      "Enter a number 2\n"
     ]
    }
   ],
   "source": [
    "num1 = int(input(\"Enter a number\"))\n",
    "num2 = int(input(\"Enter a number\"))\n",
    "operation = (\"+\" \"-\" \"*\" \"/\")\n",
    "if operation == \"+\":\n",
    "    print(num1+num2)\n",
    "    "
   ]
  },
  {
   "cell_type": "code",
   "execution_count": 23,
   "id": "d76ee8eb-f7ec-4c96-95c0-83e3703a6292",
   "metadata": {
    "tags": []
   },
   "outputs": [
    {
     "name": "stdin",
     "output_type": "stream",
     "text": [
      "Enter a number 6\n",
      "Enter a number 8\n",
      "+ - * / /\n"
     ]
    },
    {
     "name": "stdout",
     "output_type": "stream",
     "text": [
      "0.75\n"
     ]
    }
   ],
   "source": [
    "num1 = int(input(\"Enter a number\"))\n",
    "num2 = int(input(\"Enter a number\"))\n",
    "operation = input(\"+ - * /\")\n",
    "if operation == \"+\":\n",
    "    print(num1+num2)\n",
    "elif operation ==\"-\":\n",
    "    print(num1-num2)\n",
    "elif operation == \"*\":\n",
    "    print(num1*num2)\n",
    "elif operation == \"/\":\n",
    "    print(num1/num2)\n",
    "\n",
    "    \n"
   ]
  },
  {
   "cell_type": "code",
   "execution_count": null,
   "id": "6ce9a49b-707c-42ee-a5d2-83854420abe0",
   "metadata": {},
   "outputs": [],
   "source": []
  },
  {
   "cell_type": "code",
   "execution_count": 32,
   "id": "06cbc45e-2a47-4575-9a03-aa79efbf2fd3",
   "metadata": {
    "tags": []
   },
   "outputs": [
    {
     "name": "stdin",
     "output_type": "stream",
     "text": [
      "Enter a number 4\n",
      "Enter a number 3\n"
     ]
    },
    {
     "name": "stdout",
     "output_type": "stream",
     "text": [
      "the lowest number is \n"
     ]
    }
   ],
   "source": [
    "a = int(input(\"Enter a number\"))\n",
    "b = int(input(\"Enter a number\"))\n",
    "\n",
    "if num1>=num2:\n",
    "    print(\"the largest number is\",\"\")\n",
    "else:\n",
    "    print(\"the lowest number is\",\"\")"
   ]
  },
  {
   "cell_type": "code",
   "execution_count": 40,
   "id": "e62b0671-ff0c-4bd1-a2f1-7797e7653494",
   "metadata": {
    "tags": []
   },
   "outputs": [
    {
     "name": "stdin",
     "output_type": "stream",
     "text": [
      "Enter a number 5\n"
     ]
    },
    {
     "name": "stdout",
     "output_type": "stream",
     "text": [
      "5 is odd number\n"
     ]
    }
   ],
   "source": [
    "num = int(input(\"Enter a number\"))\n",
    "\n",
    "if (num % 2) ==0:\n",
    "    print(\"{0} is even number\".format(num))\n",
    "else:\n",
    "    print(\"{0} is odd number\".format(num))\n",
    "\n"
   ]
  },
  {
   "cell_type": "markdown",
   "id": "743479f3-94e6-4c8f-8ee5-c369d277e5f1",
   "metadata": {},
   "source": []
  }
 ],
 "metadata": {
  "kernelspec": {
   "display_name": "Python 3 (ipykernel)",
   "language": "python",
   "name": "python3"
  },
  "language_info": {
   "codemirror_mode": {
    "name": "ipython",
    "version": 3
   },
   "file_extension": ".py",
   "mimetype": "text/x-python",
   "name": "python",
   "nbconvert_exporter": "python",
   "pygments_lexer": "ipython3",
   "version": "3.11.4"
  }
 },
 "nbformat": 4,
 "nbformat_minor": 5
}
