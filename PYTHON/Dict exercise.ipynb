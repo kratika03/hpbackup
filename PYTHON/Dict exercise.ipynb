{
 "cells": [
  {
   "cell_type": "code",
   "execution_count": 21,
   "id": "dc8a6399-4a92-4748-8a7e-0ee7f59bfbe4",
   "metadata": {
    "tags": []
   },
   "outputs": [],
   "source": [
    "keys = ['ten','twenty','thirty']\n",
    "values = [10,20,30]\n",
    "my_dict1 = {}\n",
    "d = {}\n",
    "\n",
    "\n",
    "for (keys,values) in my_dict1:\n",
    "    if keys in d:\n",
    "        d[keys]=d[keys] + values\n",
    "    else:\n",
    "        d[keys]= values\n",
    "\n"
   ]
  },
  {
   "cell_type": "code",
   "execution_count": 24,
   "id": "cedb0547-88e0-44a5-af0a-1f502cb451c6",
   "metadata": {
    "tags": []
   },
   "outputs": [
    {
     "name": "stdout",
     "output_type": "stream",
     "text": [
      "{'Ten': 10, 'Twenty': 20, 'Thirty': 30, 'Forty': 40, 'Fifty': 50}\n"
     ]
    }
   ],
   "source": [
    "dict1 = {'Ten':10,'Twenty':20,'Thirty':30}\n",
    "dict2 = {'Thirty':30,'Forty':40,'Fifty':50}\n",
    "\n",
    "dict1.update(dict2)\n",
    "print(dict1)\n",
    "\n"
   ]
  },
  {
   "cell_type": "code",
   "execution_count": 33,
   "id": "a117f552-d7f1-4ad5-9c5a-2a971d1084cd",
   "metadata": {
    "tags": []
   },
   "outputs": [
    {
     "name": "stdout",
     "output_type": "stream",
     "text": [
      "80\n"
     ]
    }
   ],
   "source": [
    "a = {\"class\":{\"student\":{\"name\":\"Anjali\",\"marks\":{\"physics\":70,\"history\":80}}}}\n",
    "\n",
    "print(a.get('class').get('student').get('marks').get('history'))\n",
    "\n"
   ]
  },
  {
   "cell_type": "code",
   "execution_count": 28,
   "id": "03623a8a-64ce-4b2f-b64f-9df49a52c05e",
   "metadata": {
    "tags": []
   },
   "outputs": [
    {
     "name": "stdout",
     "output_type": "stream",
     "text": [
      "{'radha': {'designation': 'developer', 'salary': 8000}, 'shyam': {'designation': 'developer', 'salary': 8000}}\n"
     ]
    }
   ],
   "source": [
    "employee = {\"shyam\",\"radha\"}\n",
    "default = {\"designation\":\"developer\",\"salary\":8000}\n",
    "\n",
    "result = dict.fromkeys(employee,default)\n",
    "print(result)\n"
   ]
  },
  {
   "cell_type": "code",
   "execution_count": 23,
   "id": "7c52a505-e296-4ed2-b1c3-fb8e9a69a250",
   "metadata": {},
   "outputs": [
    {
     "data": {
      "text/plain": [
       "{'name': 'Anjali', 'salary': 80000}"
      ]
     },
     "execution_count": 23,
     "metadata": {},
     "output_type": "execute_result"
    }
   ],
   "source": [
    "sample_dict = {\n",
    "\"name\": \"Anjali\",\n",
    "\"subject\": \"Python\",\n",
    "\"salary\": 80000,\n",
    "\"city\": \"Ratlam\"}\n",
    "keys = [\"name\", \"salary\"]\n",
    "dict1={}\n",
    "for i in sample_dict:\n",
    "    for j in keys:\n",
    "        if i==j:\n",
    "            dict1[i]=sample_dict[i]\n",
    "dict1\n",
    "    "
   ]
  },
  {
   "cell_type": "code",
   "execution_count": 16,
   "id": "837a7a59-1851-4a13-a16a-c892486a1575",
   "metadata": {
    "tags": []
   },
   "outputs": [
    {
     "name": "stdout",
     "output_type": "stream",
     "text": [
      "{'subject': 'Python', 'city': 'Ratlam'}\n"
     ]
    }
   ],
   "source": [
    "sample_dict = {\n",
    "\"name\": \"Anjali\",\n",
    "\"subject\": \"Python\",\n",
    "\"salary\": 80000,\n",
    "\"city\": \"Ratlam\"}\n",
    "test=sample_dict.copy()\n",
    "keys = [\"name\", \"salary\"]\n",
    "for i in test:\n",
    "    for j in keys:\n",
    "        if i==j:\n",
    "            sample_dict.pop(i)\n",
    "print(sample_dict)"
   ]
  },
  {
   "cell_type": "code",
   "execution_count": 17,
   "id": "fc4d612f-362d-4bfb-adff-39f5f6d69eb3",
   "metadata": {
    "tags": []
   },
   "outputs": [
    {
     "name": "stdout",
     "output_type": "stream",
     "text": [
      "200 is present in the dict\n"
     ]
    }
   ],
   "source": [
    "sample_dict = {'a': 100, 'b': 200, 'c': 300}\n",
    "if 200 in sample_dict.values():\n",
    "    print(\"200 is present in the dict\")"
   ]
  },
  {
   "cell_type": "code",
   "execution_count": 18,
   "id": "5c8df7ee-6c26-460e-a1c7-2198ac565863",
   "metadata": {
    "tags": []
   },
   "outputs": [
    {
     "name": "stdout",
     "output_type": "stream",
     "text": [
      "{'name': 'Radha', 'age': 25, 'salary': 8000, 'location': 'Indore'}\n"
     ]
    }
   ],
   "source": [
    "sample_dict = {\n",
    "\"name\": \"Radha\",\n",
    "\"age\":25,\n",
    "\"salary\": 8000,\n",
    "\"city\": \"Indore\"\n",
    "}\n",
    "sample_dict['location']=sample_dict.pop('city')\n",
    "print(str(sample_dict))\n",
    "\n",
    "\n"
   ]
  },
  {
   "cell_type": "code",
   "execution_count": 19,
   "id": "8525cae7-b44c-4881-8333-2c6cccadd1f2",
   "metadata": {},
   "outputs": [
    {
     "name": "stdout",
     "output_type": "stream",
     "text": [
      "Math\n"
     ]
    }
   ],
   "source": [
    "sample_dict = { 'Physics': 82, 'Math': 65, 'History': 75 }\n",
    "for i in sample_dict.items():\n",
    "    if i[1]==min(sample_dict.values()):\n",
    "        print(i[0])"
   ]
  },
  {
   "cell_type": "code",
   "execution_count": 20,
   "id": "ac7dbfcd-7e73-42b3-9ceb-d0d6080bf40c",
   "metadata": {
    "tags": []
   },
   "outputs": [
    {
     "name": "stdout",
     "output_type": "stream",
     "text": [
      "{'emp1': {'name': 'Shubham', 'salary': 7500}, 'emp2': {'name': 'Lalit', 'salary': 8000}, 'emp3': {'name': 'Bablu', 'salary': 8500}}\n"
     ]
    }
   ],
   "source": [
    "sample_dict = {\n",
    "'emp1': {'name': 'Shubham', 'salary': 7500},\n",
    "'emp2': {'name': 'Lalit', 'salary': 8000},\n",
    "'emp3': {'name': 'Bablu', 'salary': 500}\n",
    "}\n",
    "for key, value in sample_dict.items():\n",
    "    if value['name'] == 'Bablu':\n",
    "        value['salary'] = 8500\n",
    "print(sample_dict)"
   ]
  },
  {
   "cell_type": "code",
   "execution_count": null,
   "id": "34dba5de-7efe-4bd3-94f8-c8de52482244",
   "metadata": {},
   "outputs": [],
   "source": []
  },
  {
   "cell_type": "code",
   "execution_count": null,
   "id": "8abe9c68-4604-435f-8a35-f5e540641738",
   "metadata": {},
   "outputs": [],
   "source": []
  }
 ],
 "metadata": {
  "kernelspec": {
   "display_name": "Python 3 (ipykernel)",
   "language": "python",
   "name": "python3"
  },
  "language_info": {
   "codemirror_mode": {
    "name": "ipython",
    "version": 3
   },
   "file_extension": ".py",
   "mimetype": "text/x-python",
   "name": "python",
   "nbconvert_exporter": "python",
   "pygments_lexer": "ipython3",
   "version": "3.11.4"
  }
 },
 "nbformat": 4,
 "nbformat_minor": 5
}
