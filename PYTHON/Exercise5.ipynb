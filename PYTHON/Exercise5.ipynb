{
 "cells": [
  {
   "cell_type": "code",
   "execution_count": 1,
   "id": "516a7a8e-9461-43b3-be5f-0f409376d9ce",
   "metadata": {
    "tags": []
   },
   "outputs": [
    {
     "name": "stdout",
     "output_type": "stream",
     "text": [
      "0 2 4 6 8 10 12 14 16 18 20 22 24 26 28 30 32 34 36 38 40 42 44 46 48 50 52 54 56 58 60 62 64 66 68 70 72 74 76 78 80 82 84 86 88 90 92 94 96 98 "
     ]
    }
   ],
   "source": [
    "for i in range(100):\n",
    "    if i%2==0:\n",
    "        print(i,end=\" \")"
   ]
  },
  {
   "cell_type": "code",
   "execution_count": 5,
   "id": "085500e1-ecf9-41f8-b094-94052e8faab3",
   "metadata": {
    "tags": []
   },
   "outputs": [
    {
     "name": "stdin",
     "output_type": "stream",
     "text": [
      " 5\n"
     ]
    },
    {
     "name": "stdout",
     "output_type": "stream",
     "text": [
      "120\n"
     ]
    }
   ],
   "source": [
    "num=int(input())\n",
    "ans=1\n",
    "for i in range(1,num+1):\n",
    "    ans=i*ans\n",
    "print(ans)"
   ]
  },
  {
   "cell_type": "code",
   "execution_count": 4,
   "id": "7febf8d9-b454-4890-8d27-5178b8587323",
   "metadata": {
    "tags": []
   },
   "outputs": [
    {
     "name": "stdin",
     "output_type": "stream",
     "text": [
      " 6\n"
     ]
    },
    {
     "name": "stdout",
     "output_type": "stream",
     "text": [
      "not prime\n"
     ]
    }
   ],
   "source": [
    "num= int(input())\n",
    "is_prime=True\n",
    "if num<=0:\n",
    "    is_prime=False\n",
    "else:\n",
    "    for i in range(2,num):\n",
    "        if num%i==0:\n",
    "            is_prime=False\n",
    "            break\n",
    "if is_prime:\n",
    "    print(\"prime\")\n",
    "else:\n",
    "    print(\"not prime\")"
   ]
  },
  {
   "cell_type": "code",
   "execution_count": 11,
   "id": "c653526d-0917-4c85-9aab-cea9434cb92e",
   "metadata": {
    "tags": []
   },
   "outputs": [
    {
     "name": "stdin",
     "output_type": "stream",
     "text": [
      " 5\n"
     ]
    },
    {
     "name": "stdout",
     "output_type": "stream",
     "text": [
      "3\n"
     ]
    }
   ],
   "source": [
    "f0=0\n",
    "f1=1\n",
    "f2=1\n",
    "number=int(input())\n",
    "for i in range(number-2):\n",
    "    \n",
    "    f2=f1+f0\n",
    "    f0=f1\n",
    "    f1=f2\n",
    "print(f2)"
   ]
  },
  {
   "cell_type": "code",
   "execution_count": 10,
   "id": "502d1ede-7259-474a-9eff-00e337370f77",
   "metadata": {
    "tags": []
   },
   "outputs": [
    {
     "name": "stdin",
     "output_type": "stream",
     "text": [
      "Enter a number 30\n",
      "Enter a number 40\n"
     ]
    },
    {
     "name": "stdout",
     "output_type": "stream",
     "text": [
      "31\n",
      "37\n"
     ]
    }
   ],
   "source": [
    "lower = int(input(\"Enter a number\"))\n",
    "upper = int(input(\"Enter a number\"))\n",
    "\n",
    "for n in range (lower, upper + 1):\n",
    "    if n > 1:\n",
    "        \n",
    "        for i in range (2, n):\n",
    "            if (n % i) == 0:\n",
    "                break\n",
    "        else:\n",
    "            print(n)\n"
   ]
  },
  {
   "cell_type": "code",
   "execution_count": null,
   "id": "01edabdd-a361-4fca-aa2e-2e3de2efb1f1",
   "metadata": {},
   "outputs": [],
   "source": []
  }
 ],
 "metadata": {
  "kernelspec": {
   "display_name": "Python 3 (ipykernel)",
   "language": "python",
   "name": "python3"
  },
  "language_info": {
   "codemirror_mode": {
    "name": "ipython",
    "version": 3
   },
   "file_extension": ".py",
   "mimetype": "text/x-python",
   "name": "python",
   "nbconvert_exporter": "python",
   "pygments_lexer": "ipython3",
   "version": "3.11.4"
  }
 },
 "nbformat": 4,
 "nbformat_minor": 5
}
