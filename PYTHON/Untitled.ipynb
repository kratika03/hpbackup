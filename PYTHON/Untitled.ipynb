{
 "cells": [
  {
   "cell_type": "code",
   "execution_count": 1,
   "id": "fcdd5223-0129-428d-818a-9dc9ac26e21f",
   "metadata": {
    "tags": []
   },
   "outputs": [
    {
     "name": "stdin",
     "output_type": "stream",
     "text": [
      "Enter the number 3\n",
      "Enter the number 2\n",
      " +\n"
     ]
    },
    {
     "name": "stdout",
     "output_type": "stream",
     "text": [
      "5\n"
     ]
    }
   ],
   "source": [
    "num1 = int(input(\"Enter the number\"))\n",
    "num2 = int(input(\"Enter the number\"))\n",
    "operation = input(\"\")\n",
    "if operation == \"+\":\n",
    "    print(num1+num2)    "
   ]
  },
  {
   "cell_type": "code",
   "execution_count": 2,
   "id": "60efa258-0f57-4c8b-ba56-e128d06a2503",
   "metadata": {
    "tags": []
   },
   "outputs": [
    {
     "name": "stdin",
     "output_type": "stream",
     "text": [
      "Enter the number 3\n"
     ]
    }
   ],
   "source": [
    "a = int(input(\"Enter the number\"))"
   ]
  },
  {
   "cell_type": "code",
   "execution_count": 3,
   "id": "264c40fc-3fe6-470d-820e-719d03138e79",
   "metadata": {
    "tags": []
   },
   "outputs": [
    {
     "name": "stdin",
     "output_type": "stream",
     "text": [
      "Enter a number 3\n",
      "Enter a number 5\n"
     ]
    }
   ],
   "source": [
    "num1 = int(input(\"Enter a number\"))\n",
    "num2 = int(input(\"Enter a number\"))\n",
    "operation = (\"+\" \"-\" \"*\" \"/\")\n",
    "if operation == \"+\":\n",
    "    print(num1+num2)\n",
    "    "
   ]
  },
  {
   "cell_type": "code",
   "execution_count": 4,
   "id": "d76ee8eb-f7ec-4c96-95c0-83e3703a6292",
   "metadata": {
    "tags": []
   },
   "outputs": [
    {
     "name": "stdin",
     "output_type": "stream",
     "text": [
      "Enter a number 34\n",
      "Enter a number 43\n",
      "+ - * / -\n"
     ]
    },
    {
     "name": "stdout",
     "output_type": "stream",
     "text": [
      "-9\n"
     ]
    }
   ],
   "source": [
    "num1 = int(input(\"Enter a number\"))\n",
    "num2 = int(input(\"Enter a number\"))\n",
    "operation = input(\"+ - * /\")\n",
    "if operation == \"+\":\n",
    "    print(num1+num2)\n",
    "elif operation ==\"-\":\n",
    "    print(num1-num2)\n",
    "elif operation == \"*\":\n",
    "    print(num1*num2)\n",
    "elif operation == \"/\":\n",
    "    print(num1/num2)\n",
    "\n",
    "    \n"
   ]
  },
  {
   "cell_type": "code",
   "execution_count": null,
   "id": "6ce9a49b-707c-42ee-a5d2-83854420abe0",
   "metadata": {},
   "outputs": [],
   "source": []
  },
  {
   "cell_type": "code",
   "execution_count": 2,
   "id": "06cbc45e-2a47-4575-9a03-aa79efbf2fd3",
   "metadata": {
    "tags": []
   },
   "outputs": [
    {
     "name": "stdin",
     "output_type": "stream",
     "text": [
      "Enter a number 2\n",
      "Enter a number 2\n"
     ]
    },
    {
     "name": "stdout",
     "output_type": "stream",
     "text": [
      "the largest number is \n"
     ]
    }
   ],
   "source": [
    "num1 = int(input(\"Enter a number\"))\n",
    "num2 = int(input(\"Enter a number\"))\n",
    "\n",
    "if num1>=num2:\n",
    "    print(\"the largest number is\",\"\")\n",
    "else:\n",
    "    print(\"the lowest number is\",\"\")"
   ]
  },
  {
   "cell_type": "code",
   "execution_count": 4,
   "id": "ac85c1d9-b7df-40ee-8882-0178da1714e3",
   "metadata": {
    "jp-MarkdownHeadingCollapsed": true,
    "tags": []
   },
   "outputs": [
    {
     "name": "stdin",
     "output_type": "stream",
     "text": [
      "Enter a number 2\n"
     ]
    },
    {
     "name": "stdout",
     "output_type": "stream",
     "text": [
      "2 is even number\n"
     ]
    }
   ],
   "source": [
    "num = int(input(\"Enter a number\"))\n",
    "\n",
    "if (num % 2) ==0:\n",
    "    print(\"{0} is even number\".format(num))\n",
    "else:\n",
    "    print(\"{0} is odd number\".format(num))\n",
    "\n",
    "#odd even"
   ]
  },
  {
   "cell_type": "code",
   "execution_count": 11,
   "id": "a39b7734-811b-419b-9bc1-2a9d4bb25f6f",
   "metadata": {
    "tags": []
   },
   "outputs": [
    {
     "name": "stdin",
     "output_type": "stream",
     "text": [
      "Enter a number:  45\n",
      "Enter a number:  12\n",
      "Enter a number:  100\n"
     ]
    },
    {
     "name": "stdout",
     "output_type": "stream",
     "text": [
      "The largest number is 100\n"
     ]
    }
   ],
   "source": [
    "num1 = int(input(\"Enter a number: \"))\n",
    "num2 = int(input(\"Enter a number: \"))\n",
    "num3 = int(input(\"Enter a number: \"))\n",
    "           \n",
    "if (num1>=num2) and (num1>=num3):\n",
    "    largest = num1\n",
    "elif (num2>=num1) and (num2>=num3):\n",
    "    largest = num2\n",
    "else:\n",
    "    largest = num3\n",
    "           \n",
    "print(\"The largest number is\", largest)"
   ]
  },
  {
   "cell_type": "code",
   "execution_count": 27,
   "id": "770a939e-21d4-43df-9e95-4223978867fd",
   "metadata": {
    "tags": []
   },
   "outputs": [
    {
     "name": "stdin",
     "output_type": "stream",
     "text": [
      "Enter the age 200\n"
     ]
    },
    {
     "name": "stdout",
     "output_type": "stream",
     "text": [
      "above_60\n"
     ]
    }
   ],
   "source": [
    "age = int(input(\"Enter the age\"))\n",
    "\n",
    "if (age <= 20):\n",
    "    print(\"0_20\")\n",
    "elif (age >= 20) and (age <=40):\n",
    "    print(\"The age is between 21_40\")\n",
    "elif (age >= 40) and (age <= 60):\n",
    "    print(\"The age is between 41_60\")\n",
    "elif (age >= 60):\n",
    "    print(\"above_60\")\n",
    "elif (age < 0):\n",
    "    print(\"please enter correct age\")\n",
    "\n"
   ]
  },
  {
   "cell_type": "code",
   "execution_count": 41,
   "id": "1d751c58-bc66-457f-ba99-ad7a95c124b6",
   "metadata": {
    "tags": []
   },
   "outputs": [
    {
     "name": "stdin",
     "output_type": "stream",
     "text": [
      "Enter a number 2020\n"
     ]
    },
    {
     "name": "stdout",
     "output_type": "stream",
     "text": [
      "This is a leap year\n"
     ]
    }
   ],
   "source": [
    "year = int(input(\"Enter a number\"))\n",
    "\n",
    "if (year % 400 == 0) and (year % 100 == 0):\n",
    "    print(\"This year is a leap year\")\n",
    "    \n",
    "elif (year % 4 == 0) and (year % 100 != 0):\n",
    "    print(\"This is a leap year\")\n",
    "    \n",
    "else:\n",
    "    print(\"This year is not a leap year\")\n",
    "\n",
    "#Leap year"
   ]
  },
  {
   "cell_type": "code",
   "execution_count": 42,
   "id": "22cb6e5b-8700-49d1-bec5-370dab773ea8",
   "metadata": {
    "tags": []
   },
   "outputs": [
    {
     "name": "stdout",
     "output_type": "stream",
     "text": [
      "1\n",
      "2\n",
      "3\n",
      "4\n"
     ]
    }
   ],
   "source": [
    "list = [1,2,3,4]\n",
    "\n",
    "for i in list:\n",
    "    print(i)\n"
   ]
  },
  {
   "cell_type": "code",
   "execution_count": 43,
   "id": "6d368525-6c1a-453d-b76f-5b0b559d1081",
   "metadata": {
    "tags": []
   },
   "outputs": [
    {
     "name": "stdout",
     "output_type": "stream",
     "text": [
      "5\n",
      "10\n"
     ]
    }
   ],
   "source": [
    "list = [1,2,3,4,5,6,7,8,9,10]\n",
    "\n",
    "for i in list:\n",
    "    if i%5 ==0:\n",
    "        print(i)"
   ]
  },
  {
   "cell_type": "code",
   "execution_count": 46,
   "id": "2763d97c-7e83-4595-8be0-c92b7b5b199f",
   "metadata": {
    "tags": []
   },
   "outputs": [
    {
     "name": "stdout",
     "output_type": "stream",
     "text": [
      "0 1 2 3 4 5 6 7 8 9 "
     ]
    }
   ],
   "source": [
    "for i in range(10):\n",
    "    print(i, end = \" \")"
   ]
  },
  {
   "cell_type": "code",
   "execution_count": 52,
   "id": "f204503b-dc0f-4cd1-986e-c1df35942367",
   "metadata": {
    "tags": []
   },
   "outputs": [
    {
     "name": "stdout",
     "output_type": "stream",
     "text": [
      "2\n",
      "4\n",
      "6\n",
      "8\n",
      "100\n"
     ]
    }
   ],
   "source": [
    "list = [1, 2,4,3,5,6,7,8,9 ,100]\n",
    "\n",
    "for num in list:\n",
    "    if num % 2 == 0:\n",
    "        print(num)\n",
    "\n",
    "\n"
   ]
  },
  {
   "cell_type": "code",
   "execution_count": 57,
   "id": "ab732c58-e902-4505-8403-7e5c015db87d",
   "metadata": {
    "tags": []
   },
   "outputs": [
    {
     "name": "stdout",
     "output_type": "stream",
     "text": [
      "2 4 6 8 10 12 14 16 18 20 22 24 26 28 30 32 34 36 38 40 42 44 46 48 50 52 54 56 58 60 62 64 66 68 70 72 74 76 78 80 82 84 86 88 90 92 94 96 98 100 "
     ]
    }
   ],
   "source": [
    "for i in range(1,101):\n",
    "    if i % 2 == 0:\n",
    "        print(i, end=\" \")"
   ]
  },
  {
   "cell_type": "code",
   "execution_count": 70,
   "id": "d528a251-e748-4165-99cd-5add18db0997",
   "metadata": {
    "tags": []
   },
   "outputs": [
    {
     "name": "stdin",
     "output_type": "stream",
     "text": [
      "Enter a number 5\n"
     ]
    },
    {
     "name": "stdout",
     "output_type": "stream",
     "text": [
      "The Factorial of 5 is 120\n"
     ]
    }
   ],
   "source": [
    "num = int(input(\"Enter a number\"))\n",
    "factorial = 1\n",
    "\n",
    "for i in range(1,num + 1):\n",
    "    factorial = factorial * i\n",
    "print(\"The Factorial of\",num,\"is\",factorial)"
   ]
  },
  {
   "cell_type": "code",
   "execution_count": 91,
   "id": "d0d435e0-1c9b-46a2-a1e4-00d779c5a500",
   "metadata": {
    "tags": []
   },
   "outputs": [
    {
     "name": "stdin",
     "output_type": "stream",
     "text": [
      "Enter the number 9\n"
     ]
    },
    {
     "name": "stdout",
     "output_type": "stream",
     "text": [
      "9 is not a prime number\n"
     ]
    }
   ],
   "source": [
    "num = int(input(\"Enter the number\"))\n",
    "\n",
    "for i in range(2,num):\n",
    "         if (num % i) == 0:\n",
    "            print(num,\"is not a prime number\")\n",
    "            break\n",
    "else:\n",
    "    print(num,\"is a prime number\")\n",
    "        \n",
    "        \n",
    "\n",
    "              \n"
   ]
  },
  {
   "cell_type": "code",
   "execution_count": 92,
   "id": "0508ef41-da4a-4d7d-a5a4-0905e5f117e8",
   "metadata": {
    "tags": []
   },
   "outputs": [
    {
     "name": "stdin",
     "output_type": "stream",
     "text": [
      " 11\n"
     ]
    },
    {
     "name": "stdout",
     "output_type": "stream",
     "text": [
      "55\n"
     ]
    }
   ],
   "source": [
    "f0=0\n",
    "f1=1\n",
    "f2=1\n",
    "\n",
    "number = int(input())\n",
    "for i in range(number-2):\n",
    "    \n",
    "    f2=f1+f0\n",
    "    f0=f1\n",
    "    f1=f2\n",
    "print(f2)"
   ]
  },
  {
   "cell_type": "code",
   "execution_count": 93,
   "id": "0876c15c-51a4-4620-833a-6d0a3e10b313",
   "metadata": {
    "tags": []
   },
   "outputs": [
    {
     "name": "stdout",
     "output_type": "stream",
     "text": [
      "20\n",
      "30\n",
      "40\n"
     ]
    }
   ],
   "source": [
    "#list \n",
    "list1 = [20, 30, 40]\n",
    "\n",
    "for i in range(len(list1)):\n",
    "    print(list1[i])"
   ]
  },
  {
   "cell_type": "code",
   "execution_count": 99,
   "id": "a948a6a8-665f-47b1-8e86-a672c7e43f28",
   "metadata": {
    "tags": []
   },
   "outputs": [
    {
     "name": "stdout",
     "output_type": "stream",
     "text": [
      "0\n",
      "1\n",
      "2\n"
     ]
    }
   ],
   "source": [
    "list1 = [20, 30, 40]\n",
    "\n",
    "for i in range(len(list1)):\n",
    "    print(i)"
   ]
  },
  {
   "cell_type": "code",
   "execution_count": 101,
   "id": "2a4da2d7-46fd-4f36-ac3f-4bfb133897f3",
   "metadata": {
    "tags": []
   },
   "outputs": [
    {
     "name": "stdout",
     "output_type": "stream",
     "text": [
      "[20, 30, 40, 50]\n"
     ]
    }
   ],
   "source": [
    "list1 = [20, 30, 40]\n",
    "a = 50\n",
    "list1.append(a)\n",
    "\n",
    "print(list1)"
   ]
  },
  {
   "cell_type": "code",
   "execution_count": 103,
   "id": "e6e7dd2b-f879-41ee-b327-769306c17a1a",
   "metadata": {
    "tags": []
   },
   "outputs": [
    {
     "name": "stdout",
     "output_type": "stream",
     "text": [
      "[]\n"
     ]
    }
   ],
   "source": [
    "list1 = [20, 30, 40, 50]\n",
    "a = 50\n",
    "list1.clear()\n",
    "\n",
    "print(list1)"
   ]
  },
  {
   "cell_type": "code",
   "execution_count": 2,
   "id": "eb266370-cd84-477e-8f7f-a9f4b8777f12",
   "metadata": {
    "tags": []
   },
   "outputs": [
    {
     "name": "stdout",
     "output_type": "stream",
     "text": [
      "[20, 30, [50, 60]]\n",
      "[20, 30, 70, 80, 90]\n"
     ]
    }
   ],
   "source": [
    "list1 = [20, 30]\n",
    "list2 = list1.copy()\n",
    "\n",
    "list1.append([50, 60])\n",
    "print(list1)\n",
    "list2.extend([70, 80, 90])\n",
    "print(list2)"
   ]
  },
  {
   "cell_type": "code",
   "execution_count": 3,
   "id": "c6423d0c-159c-4ccc-a5f0-5af00aa7b59b",
   "metadata": {
    "tags": []
   },
   "outputs": [
    {
     "name": "stdout",
     "output_type": "stream",
     "text": [
      "[20, 30, 35, 70, 80, 90]\n"
     ]
    }
   ],
   "source": [
    "list2.insert(2,35)\n",
    "print(list2)"
   ]
  },
  {
   "cell_type": "code",
   "execution_count": 4,
   "id": "fac7d86f-3916-4a1b-aa83-2280b1b184dc",
   "metadata": {
    "tags": []
   },
   "outputs": [
    {
     "name": "stdout",
     "output_type": "stream",
     "text": [
      "[20, 40]\n"
     ]
    }
   ],
   "source": [
    "list1 = [20, 30, 40]\n",
    "\n",
    "list1.remove(30)\n",
    "print(list1)"
   ]
  },
  {
   "cell_type": "code",
   "execution_count": 6,
   "id": "c17c6592-000a-42b2-a210-f17d37ef1b64",
   "metadata": {
    "tags": []
   },
   "outputs": [
    {
     "name": "stdout",
     "output_type": "stream",
     "text": [
      "[20]\n"
     ]
    }
   ],
   "source": [
    "list1.pop()\n",
    "print(list1)"
   ]
  },
  {
   "cell_type": "code",
   "execution_count": 9,
   "id": "7d01ffc6-4566-422c-b5df-4b3d0c4ad2d9",
   "metadata": {
    "tags": []
   },
   "outputs": [
    {
     "data": {
      "text/plain": [
       "[20, 40]"
      ]
     },
     "execution_count": 9,
     "metadata": {},
     "output_type": "execute_result"
    }
   ],
   "source": [
    "list1 = [20, 30, 40, 50, 60]\n",
    "list1[2]\n",
    "list1[0:4] #slicing\n",
    "list1[0:3:2]"
   ]
  },
  {
   "cell_type": "code",
   "execution_count": 16,
   "id": "1933407d-baa0-4daa-928b-25c0e2d244eb",
   "metadata": {
    "tags": []
   },
   "outputs": [
    {
     "name": "stdout",
     "output_type": "stream",
     "text": [
      "[10, 20, [30, [40, 50, 70]], 60]\n"
     ]
    }
   ],
   "source": [
    "list1 = [10, 20, [30,[40, 50]],60]\n",
    "list1[2][1].append(70)\n",
    "print(list1)"
   ]
  },
  {
   "cell_type": "code",
   "execution_count": 21,
   "id": "b51f3b70-cffa-4d0b-b448-52a7f2bf67f4",
   "metadata": {
    "tags": []
   },
   "outputs": [
    {
     "name": "stdin",
     "output_type": "stream",
     "text": [
      "Enter a number 23\n"
     ]
    },
    {
     "name": "stdout",
     "output_type": "stream",
     "text": [
      "23 is prime number\n"
     ]
    }
   ],
   "source": [
    "# primr number\n",
    "num = int(input(\"Enter a number\"))\n",
    "\n",
    "for i in range (2,num):\n",
    "    if (num % i) == 0:\n",
    "        print(num,\"is not a prime number\")\n",
    "        break\n",
    "else:\n",
    "    print(num,\"is prime number\")\n",
    "        \n",
    "    \n",
    "\n"
   ]
  },
  {
   "cell_type": "code",
   "execution_count": 2,
   "id": "e263c9b3-b82c-4e4e-b1ef-f37a3cf2778b",
   "metadata": {
    "tags": []
   },
   "outputs": [
    {
     "name": "stdin",
     "output_type": "stream",
     "text": [
      "Enter a number 20\n",
      "Enter a number 30\n"
     ]
    },
    {
     "name": "stdout",
     "output_type": "stream",
     "text": [
      "23\n",
      "29\n"
     ]
    }
   ],
   "source": [
    "lower = int(input(\"Enter a number\"))\n",
    "upper = int(input(\"Enter a number\"))\n",
    "\n",
    "for n in range (lower, upper + 1):\n",
    "    if n > 1:\n",
    "        \n",
    "        for i in range (2, n):\n",
    "            if (n % i) == 0:\n",
    "                break\n",
    "        else:\n",
    "            print(n)\n",
    "\n",
    "\n",
    "                  \n"
   ]
  },
  {
   "cell_type": "code",
   "execution_count": 3,
   "id": "15753aa1-ccfe-4e50-964e-064b4e7fba08",
   "metadata": {
    "tags": []
   },
   "outputs": [
    {
     "name": "stdout",
     "output_type": "stream",
     "text": [
      "['IOTA', 500, 400, 300, 200, 100]\n"
     ]
    }
   ],
   "source": [
    "list1 = [100,200,300,400,500,\"IOTA\"]\n",
    "list1.reverse()\n",
    "print(list1)"
   ]
  },
  {
   "cell_type": "code",
   "execution_count": 6,
   "id": "ec1428f3-06d2-47b2-8af2-3b7886f5831b",
   "metadata": {
    "tags": []
   },
   "outputs": [
    {
     "name": "stdout",
     "output_type": "stream",
     "text": [
      "(2, (2, 3, 4), [1, 'raju', 'kratika'])\n"
     ]
    }
   ],
   "source": [
    "t = (2, (2,3,4),[1, 'raju'])\n",
    "t[2].append(\"kratika\")\n",
    "print(t)\n"
   ]
  },
  {
   "cell_type": "code",
   "execution_count": 8,
   "id": "ae88c2e7-8244-4bb4-a35c-1fbd43af1fe6",
   "metadata": {
    "tags": []
   },
   "outputs": [
    {
     "name": "stdout",
     "output_type": "stream",
     "text": [
      "(56, 34, 2, 1)\n"
     ]
    }
   ],
   "source": [
    "t = (1,2,34,56)\n",
    "l =[]\n",
    "\n",
    "for i in range(len(t)):\n",
    "    l.append(t[-i-1])\n",
    "t = tuple(l)\n",
    "print(t)\n"
   ]
  },
  {
   "cell_type": "code",
   "execution_count": 2,
   "id": "c69a255c-e70b-4403-b3d5-879a520b0ac6",
   "metadata": {},
   "outputs": [
    {
     "name": "stdout",
     "output_type": "stream",
     "text": [
      "Hellosatish\n",
      "Hello satish\n",
      "HelloHelloHello\n"
     ]
    }
   ],
   "source": [
    "#Strings\n",
    "s1 = \"Hello\"\n",
    "s2 = \"satish\"\n",
    "\n",
    "print(s1 + s2)\n",
    "\n",
    "print(s1+\" \"+s2)\n",
    "\n",
    "print(s1 * 3)"
   ]
  },
  {
   "cell_type": "code",
   "execution_count": 4,
   "id": "64ca6242-2e18-4d57-925c-9ed3f4aa879f",
   "metadata": {
    "tags": []
   },
   "outputs": [
    {
     "name": "stdout",
     "output_type": "stream",
     "text": [
      "2\n"
     ]
    }
   ],
   "source": [
    "s1 = \"Programming\"\n",
    "count=0\n",
    "for i in s1:\n",
    "    if i == \"g\":\n",
    "        count=count+1\n",
    "print(count)        \n",
    "\n",
    "        \n",
    "    \n",
    "    "
   ]
  },
  {
   "cell_type": "code",
   "execution_count": 6,
   "id": "769cbacb-9f9f-4f9a-9509-0f9271f1d396",
   "metadata": {
    "tags": []
   },
   "outputs": [
    {
     "name": "stdin",
     "output_type": "stream",
     "text": [
      " kratika\n",
      " i\n"
     ]
    },
    {
     "name": "stdout",
     "output_type": "stream",
     "text": [
      "1\n"
     ]
    }
   ],
   "source": [
    "s1 = input()\n",
    "s2 = input()\n",
    "count = 0\n",
    "\n",
    "for i in s1:\n",
    "    if i==s2:\n",
    "        count=count+1\n",
    "print(count)"
   ]
  },
  {
   "cell_type": "code",
   "execution_count": 9,
   "id": "4477e521-346c-478c-bae6-24f295469c6c",
   "metadata": {
    "tags": []
   },
   "outputs": [
    {
     "data": {
      "text/plain": [
       "'2000.45'"
      ]
     },
     "execution_count": 9,
     "metadata": {},
     "output_type": "execute_result"
    }
   ],
   "source": [
    "s = \"INR2000.45\"\n",
    "\n",
    "s.replace(\"INR2000.45\",\"2000.45\")"
   ]
  },
  {
   "cell_type": "code",
   "execution_count": 1,
   "id": "38baa141-d412-4741-895f-53a2ccdfa7cb",
   "metadata": {},
   "outputs": [
    {
     "name": "stdout",
     "output_type": "stream",
     "text": [
      "DA\n"
     ]
    }
   ],
   "source": [
    "#Dictionary\n",
    "#my_dict = {}\n",
    "#print(type(my_dict))\n",
    "\n",
    "#my_dict = {1: 'abc' , 2: 'xyz'}\n",
    "#print(my_dict)\n",
    "\n",
    "#my_dict = {'name': 'iota',1:['abc', 'xyz']}\n",
    "\n",
    "my_dict = {'name': 'iota','age':26,'address':'indore','courses':{'data analytics':'DA'}}\n",
    "\n",
    "print(my_dict['courses']['data analytics'])\n",
    "#print my_dict['courses']['data analytics'] = 'python'\n",
    "#print(my_dict)\n",
    "\n"
   ]
  },
  {
   "cell_type": "code",
   "execution_count": 2,
   "id": "66fdc7ff-c130-4aad-8a4a-df3c3966346e",
   "metadata": {
    "tags": []
   },
   "outputs": [
    {
     "data": {
      "text/plain": [
       "'missing key'"
      ]
     },
     "execution_count": 2,
     "metadata": {},
     "output_type": "execute_result"
    }
   ],
   "source": [
    "my_dict = {'name':'iota','age': 26}\n",
    "\n",
    "my_dict['subject'] = 'python'\n",
    "my_dict.get('subjects','missing key')"
   ]
  },
  {
   "cell_type": "code",
   "execution_count": 3,
   "id": "41fcec9f-e599-4871-8e7c-6d2cac83255a",
   "metadata": {
    "tags": []
   },
   "outputs": [
    {
     "name": "stdin",
     "output_type": "stream",
     "text": [
      "Enter your mobile 7067174758\n",
      "Enter your age 21\n",
      "Enter your name kratika\n",
      "Enter your gender female\n"
     ]
    },
    {
     "name": "stdout",
     "output_type": "stream",
     "text": [
      "{'mobile': '7067174758', 'age': '21', 'name': 'kratika', 'gender': 'female'}\n"
     ]
    }
   ],
   "source": [
    "fieldname = {'name','age','gender','mobile'}\n",
    "my_dict={}\n",
    "\n",
    "for i in fieldname:\n",
    "    my_dict[i]=input(f\"Enter your {i}\")\n",
    "print(my_dict)"
   ]
  },
  {
   "cell_type": "code",
   "execution_count": 8,
   "id": "353e4bae-2692-4d19-a918-c66d9dcd8dbb",
   "metadata": {
    "tags": []
   },
   "outputs": [],
   "source": [
    "#Functions\n",
    "def hello(name):\n",
    "    print(\"hello world\",name)"
   ]
  },
  {
   "cell_type": "code",
   "execution_count": 9,
   "id": "6130452e-b492-4ba6-8a59-4c78242ca546",
   "metadata": {
    "tags": []
   },
   "outputs": [
    {
     "name": "stdout",
     "output_type": "stream",
     "text": [
      "hello world varun\n"
     ]
    }
   ],
   "source": [
    "hello(\"varun\")"
   ]
  },
  {
   "cell_type": "code",
   "execution_count": 13,
   "id": "f00551dd-f860-497f-8277-22074e24c632",
   "metadata": {
    "tags": []
   },
   "outputs": [
    {
     "name": "stdout",
     "output_type": "stream",
     "text": [
      "50\n"
     ]
    },
    {
     "data": {
      "text/plain": [
       "(20, 30)"
      ]
     },
     "execution_count": 13,
     "metadata": {},
     "output_type": "execute_result"
    }
   ],
   "source": [
    "def add(a,b):\n",
    "    \"\"\"This Function adds Values\"\"\"\n",
    "    \"\"\"This Function return the value\"\"\"\n",
    "    print(a+b)\n",
    "    return a,b\n",
    "    \n",
    "add(20,30)\n",
    "    \n",
    "    \n"
   ]
  },
  {
   "cell_type": "code",
   "execution_count": 15,
   "id": "851abf83-8092-4470-becc-0f777b815dcd",
   "metadata": {
    "tags": []
   },
   "outputs": [
    {
     "name": "stdout",
     "output_type": "stream",
     "text": [
      "['My', 'name']\n"
     ]
    }
   ],
   "source": [
    "l1 = [\"M\",\"na\"]\n",
    "l2 = [\"y\",\"me\"]\n",
    "\n",
    "l = []\n",
    "for i,j in zip(l1,l2):\n",
    "    l.append(i+j)\n",
    "    \n",
    "print(l)"
   ]
  },
  {
   "cell_type": "code",
   "execution_count": 30,
   "id": "8c246450-901a-42f0-94a2-d30463041189",
   "metadata": {
    "tags": []
   },
   "outputs": [],
   "source": [
    "def even_odd(x):\n",
    "    if x%2 == 0:\n",
    "        return x**3"
   ]
  },
  {
   "cell_type": "code",
   "execution_count": 31,
   "id": "0fef7624-a6c3-4fbb-b125-784c46e1a12a",
   "metadata": {
    "tags": []
   },
   "outputs": [
    {
     "data": {
      "text/plain": [
       "216"
      ]
     },
     "execution_count": 31,
     "metadata": {},
     "output_type": "execute_result"
    }
   ],
   "source": [
    "even_odd(6)"
   ]
  },
  {
   "cell_type": "code",
   "execution_count": 39,
   "id": "486ea574-fbf9-4924-9447-3b92250460d1",
   "metadata": {
    "tags": []
   },
   "outputs": [
    {
     "data": {
      "text/plain": [
       "[2, 4, 6, 8]"
      ]
     },
     "execution_count": 39,
     "metadata": {},
     "output_type": "execute_result"
    }
   ],
   "source": [
    "list1 = [1,2,3,4,5,6,7,8,9]\n",
    "list(filter(even_odd,list1))"
   ]
  },
  {
   "cell_type": "code",
   "execution_count": 44,
   "id": "c69cb030-b804-4c6d-9413-18f32d27659a",
   "metadata": {
    "tags": []
   },
   "outputs": [
    {
     "data": {
      "text/plain": [
       "[None, 8, None, 64, None, 216, None, 512, None]"
      ]
     },
     "execution_count": 44,
     "metadata": {},
     "output_type": "execute_result"
    }
   ],
   "source": [
    "list1 = [1,2,3,4,5,6,7,8,9]\n",
    "list(map(even_odd,list1))\n",
    "     "
   ]
  },
  {
   "cell_type": "code",
   "execution_count": 34,
   "id": "27dab3c9-11fb-4d9f-8f3b-82c8b25cb3ff",
   "metadata": {
    "tags": []
   },
   "outputs": [],
   "source": [
    "def add(x,y):\n",
    "    return x+y\n"
   ]
  },
  {
   "cell_type": "code",
   "execution_count": 38,
   "id": "af265fd6-6fcb-4bad-9ae8-1fd428dce780",
   "metadata": {
    "tags": []
   },
   "outputs": [
    {
     "data": {
      "text/plain": [
       "39"
      ]
     },
     "execution_count": 38,
     "metadata": {},
     "output_type": "execute_result"
    }
   ],
   "source": [
    "list1 = [10,2,3,4,5,8,7]\n",
    "from functools import reduce\n",
    "reduce(add,list1)"
   ]
  },
  {
   "cell_type": "code",
   "execution_count": 45,
   "id": "c2c4fd87-a5d2-4c0d-8b7d-35c6c7fd1f4f",
   "metadata": {},
   "outputs": [
    {
     "name": "stdout",
     "output_type": "stream",
     "text": [
      "it cdm\n"
     ]
    }
   ],
   "source": [
    "a = \"iota academy\"\n",
    "print(a[::2])"
   ]
  },
  {
   "cell_type": "code",
   "execution_count": 46,
   "id": "413fe5f1-ab5c-407a-b947-2b4e4e4fc61c",
   "metadata": {
    "tags": []
   },
   "outputs": [
    {
     "name": "stdout",
     "output_type": "stream",
     "text": [
      "['iota', 'academy']\n"
     ]
    }
   ],
   "source": [
    "str1 = \"iota-academy\"\n",
    "print(str1.split(\"-\"))"
   ]
  },
  {
   "cell_type": "code",
   "execution_count": 47,
   "id": "ccb05ffd-07f1-47fe-b1d7-5d84197af08f",
   "metadata": {
    "tags": []
   },
   "outputs": [
    {
     "name": "stdout",
     "output_type": "stream",
     "text": [
      "False False False\n"
     ]
    }
   ],
   "source": [
    "st = \"i am 25 year old\"\n",
    "print(st.isdigit(),st.isalpha(),st.isalnum())"
   ]
  },
  {
   "cell_type": "code",
   "execution_count": 48,
   "id": "c0e3184c-577f-42a0-8363-ddd0c6023392",
   "metadata": {
    "tags": []
   },
   "outputs": [
    {
     "name": "stdout",
     "output_type": "stream",
     "text": [
      "<class 'int'>\n"
     ]
    }
   ],
   "source": [
    "a = \"1,2,3\"\n",
    "b = a.replace(\",\",\"\")\n",
    "b= int(b)\n",
    "print(type(b))"
   ]
  },
  {
   "cell_type": "code",
   "execution_count": 49,
   "id": "e7796bf7-d19d-412f-876c-d00f9ec5fc6e",
   "metadata": {
    "tags": []
   },
   "outputs": [
    {
     "data": {
      "text/plain": [
       "80"
      ]
     },
     "execution_count": 49,
     "metadata": {},
     "output_type": "execute_result"
    }
   ],
   "source": [
    "#function arguments\n",
    "def add (a,b):\n",
    "    return(a - b)\n",
    "add(100,20)"
   ]
  },
  {
   "cell_type": "code",
   "execution_count": 55,
   "id": "244c9eba-d227-42ea-8fb3-abfa8586b6ca",
   "metadata": {
    "tags": []
   },
   "outputs": [
    {
     "name": "stdout",
     "output_type": "stream",
     "text": [
      "Hello iota,GN\n"
     ]
    }
   ],
   "source": [
    "def greet(name,msg = \"Good Morning\"):\n",
    "    print(f\"Hello {name},{msg}\")\n",
    "\n",
    "greet(\"iota\",\"GN\")"
   ]
  },
  {
   "cell_type": "code",
   "execution_count": 56,
   "id": "ab13504a-553c-46d6-aa67-5c91b578b56d",
   "metadata": {
    "tags": []
   },
   "outputs": [],
   "source": [
    "def Sum1(*Numbers):\n",
    "    Sum2 = 0\n",
    "    for i in Numbers:\n",
    "        Sum2 += i\n",
    "    return Sum2"
   ]
  },
  {
   "cell_type": "code",
   "execution_count": 58,
   "id": "3c943164-e28e-49ec-b62b-f990bf55e5a7",
   "metadata": {
    "tags": []
   },
   "outputs": [
    {
     "data": {
      "text/plain": [
       "15"
      ]
     },
     "execution_count": 58,
     "metadata": {},
     "output_type": "execute_result"
    }
   ],
   "source": [
    "Sum1(1,2,3,4,5)"
   ]
  },
  {
   "cell_type": "code",
   "execution_count": 14,
   "id": "64e4ccba-d6a9-41bd-beea-97b87eda5418",
   "metadata": {
    "tags": []
   },
   "outputs": [],
   "source": [
    "#Recursion\n",
    "def fact(n):\n",
    "    if n == 1:\n",
    "        return 1\n",
    "    else:\n",
    "        return n*fact(n-1)\n",
    "        "
   ]
  },
  {
   "cell_type": "code",
   "execution_count": 15,
   "id": "57f8ff72-e8b8-402a-bba5-3f7018e60caa",
   "metadata": {
    "tags": []
   },
   "outputs": [
    {
     "data": {
      "text/plain": [
       "120"
      ]
     },
     "execution_count": 15,
     "metadata": {},
     "output_type": "execute_result"
    }
   ],
   "source": [
    "fact(5)"
   ]
  },
  {
   "cell_type": "code",
   "execution_count": 8,
   "id": "dad7fb14-863b-44c8-9fa7-0df5dc2fad27",
   "metadata": {},
   "outputs": [],
   "source": [
    "def login_portal(count=0):\n",
    "    while count < 2:\n",
    "        user_id = input(\"Enter user name\")\n",
    "        password = input(\"Enter password\")\n",
    "        if user_id==\"iota\" and password==\"indore\":\n",
    "            return \"successfull login\"\n",
    "        else:\n",
    "            print(\"wrong credentials\")\n",
    "            count=count+1\n",
    "            return login_portal(count)\n",
    "        "
   ]
  },
  {
   "cell_type": "code",
   "execution_count": 9,
   "id": "e525d51b-1db1-4a74-aa34-e0989db5e604",
   "metadata": {},
   "outputs": [
    {
     "name": "stdin",
     "output_type": "stream",
     "text": [
      "Enter user name iota\n",
      "Enter password indore\n"
     ]
    },
    {
     "data": {
      "text/plain": [
       "'successfull login'"
      ]
     },
     "execution_count": 9,
     "metadata": {},
     "output_type": "execute_result"
    }
   ],
   "source": [
    "login_portal()\n"
   ]
  },
  {
   "cell_type": "code",
   "execution_count": 11,
   "id": "417694f1-e9f6-44ae-bd51-78266a9f4d09",
   "metadata": {
    "tags": []
   },
   "outputs": [
    {
     "name": "stdout",
     "output_type": "stream",
     "text": [
      "Good Day, kratika\n"
     ]
    }
   ],
   "source": [
    "def greet(name):\n",
    "    print(\"Good Day, \"+name)\n",
    "greet(\"kratika\")"
   ]
  },
  {
   "cell_type": "code",
   "execution_count": 12,
   "id": "79c89246-ba40-4b68-953e-0113aefba31a",
   "metadata": {
    "tags": []
   },
   "outputs": [
    {
     "ename": "TypeError",
     "evalue": "unhashable type: 'slice'",
     "output_type": "error",
     "traceback": [
      "\u001b[1;31m---------------------------------------------------------------------------\u001b[0m",
      "\u001b[1;31mTypeError\u001b[0m                                 Traceback (most recent call last)",
      "Cell \u001b[1;32mIn[12], line 2\u001b[0m\n\u001b[0;32m      1\u001b[0m d \u001b[38;5;241m=\u001b[39m {\u001b[38;5;124m\"\u001b[39m\u001b[38;5;124mmaths\u001b[39m\u001b[38;5;124m\"\u001b[39m:\u001b[38;5;241m90\u001b[39m,\u001b[38;5;124m\"\u001b[39m\u001b[38;5;124mphysics\u001b[39m\u001b[38;5;124m\"\u001b[39m:\u001b[38;5;241m80\u001b[39m}\n\u001b[1;32m----> 2\u001b[0m \u001b[38;5;28mprint\u001b[39m(d[\u001b[38;5;124m\"\u001b[39m\u001b[38;5;124mmaths\u001b[39m\u001b[38;5;124m\"\u001b[39m:\u001b[38;5;124m\"\u001b[39m\u001b[38;5;124mcomputer\u001b[39m\u001b[38;5;124m\"\u001b[39m])\n",
      "\u001b[1;31mTypeError\u001b[0m: unhashable type: 'slice'"
     ]
    }
   ],
   "source": [
    "d = {\"maths\":90,\"physics\":80}\n",
    "print(d[\"maths\":\"computer\"])"
   ]
  },
  {
   "cell_type": "code",
   "execution_count": 39,
   "id": "e9b4c6a9-88d4-44f3-ab16-92109923707f",
   "metadata": {
    "tags": []
   },
   "outputs": [],
   "source": [
    "\n",
    "\n",
    "def sum(n):\n",
    "    if n == 1:\n",
    "        return 1\n",
    "    else:\n",
    "        return n+sum(n-1)\n",
    "        "
   ]
  },
  {
   "cell_type": "code",
   "execution_count": 40,
   "id": "cd9e5e14-440d-41fc-84ec-d9a3c4553959",
   "metadata": {
    "tags": []
   },
   "outputs": [
    {
     "data": {
      "text/plain": [
       "465"
      ]
     },
     "execution_count": 40,
     "metadata": {},
     "output_type": "execute_result"
    }
   ],
   "source": [
    "fact(30)"
   ]
  },
  {
   "cell_type": "code",
   "execution_count": 18,
   "id": "be462497-e90b-4e76-98bb-3625b0950474",
   "metadata": {
    "tags": []
   },
   "outputs": [],
   "source": [
    "#lambda fucnction\n",
    "def sq(x):\n",
    "    return x **2"
   ]
  },
  {
   "cell_type": "code",
   "execution_count": 19,
   "id": "3cf8147e-016b-4d52-b26c-ee0d0a5088a5",
   "metadata": {
    "tags": []
   },
   "outputs": [],
   "source": [
    "square = lambda x: x**2"
   ]
  },
  {
   "cell_type": "code",
   "execution_count": 21,
   "id": "e73a7e51-5ee0-46ff-9063-daa15492c0eb",
   "metadata": {
    "tags": []
   },
   "outputs": [
    {
     "data": {
      "text/plain": [
       "4"
      ]
     },
     "execution_count": 21,
     "metadata": {},
     "output_type": "execute_result"
    }
   ],
   "source": [
    "square(2)"
   ]
  },
  {
   "cell_type": "code",
   "execution_count": 22,
   "id": "01180c02-0923-4681-ac1b-13fa21464379",
   "metadata": {
    "tags": []
   },
   "outputs": [],
   "source": [
    "#using function\n",
    "def even(n):\n",
    "    if n%2 == 0:\n",
    "        return n"
   ]
  },
  {
   "cell_type": "code",
   "execution_count": 23,
   "id": "3c64c616-2eb3-4166-85b4-a19ef5c99a47",
   "metadata": {
    "tags": []
   },
   "outputs": [],
   "source": [
    "even(3)"
   ]
  },
  {
   "cell_type": "code",
   "execution_count": 24,
   "id": "799ed5ee-146d-4ea2-a74b-15b8f5bd9e14",
   "metadata": {
    "tags": []
   },
   "outputs": [],
   "source": [
    "lst = [1,2,3,4,5,21]"
   ]
  },
  {
   "cell_type": "code",
   "execution_count": 25,
   "id": "4f9d43c4-db7b-4433-9694-84aa9ebbbd86",
   "metadata": {
    "tags": []
   },
   "outputs": [
    {
     "data": {
      "text/plain": [
       "[2, 4]"
      ]
     },
     "execution_count": 25,
     "metadata": {},
     "output_type": "execute_result"
    }
   ],
   "source": [
    "list(filter(even,lst))"
   ]
  },
  {
   "cell_type": "code",
   "execution_count": 26,
   "id": "754acdce-cd10-49c1-89b6-dd08e25183b5",
   "metadata": {
    "tags": []
   },
   "outputs": [
    {
     "data": {
      "text/plain": [
       "[2, 4]"
      ]
     },
     "execution_count": 26,
     "metadata": {},
     "output_type": "execute_result"
    }
   ],
   "source": [
    "#with lambda function\n",
    "list(filter((lambda x : (x%2 == 0)),lst))"
   ]
  },
  {
   "cell_type": "code",
   "execution_count": 27,
   "id": "9ea9e3c5-2359-4831-8a08-bf1ee7e91d04",
   "metadata": {
    "tags": []
   },
   "outputs": [
    {
     "data": {
      "text/plain": [
       "[4]"
      ]
     },
     "execution_count": 27,
     "metadata": {},
     "output_type": "execute_result"
    }
   ],
   "source": [
    "list(filter((lambda x : (x%2 == 0) if x > 3 else 0),lst))"
   ]
  },
  {
   "cell_type": "code",
   "execution_count": 34,
   "id": "5a6abb9c-2f20-4f05-b956-6cdbc51e1374",
   "metadata": {
    "tags": []
   },
   "outputs": [
    {
     "ename": "ValueError",
     "evalue": "invalid literal for int() with base 10: '1,000,000'",
     "output_type": "error",
     "traceback": [
      "\u001b[1;31m---------------------------------------------------------------------------\u001b[0m",
      "\u001b[1;31mValueError\u001b[0m                                Traceback (most recent call last)",
      "Cell \u001b[1;32mIn[34], line 5\u001b[0m\n\u001b[0;32m      1\u001b[0m \u001b[38;5;66;03m#input:\"1,000,000\"\u001b[39;00m\n\u001b[0;32m      2\u001b[0m \u001b[38;5;66;03m#output: 1000000\u001b[39;00m\n\u001b[0;32m      4\u001b[0m string \u001b[38;5;241m=\u001b[39m \u001b[38;5;124m\"\u001b[39m\u001b[38;5;124m1,000,000\u001b[39m\u001b[38;5;124m\"\u001b[39m\n\u001b[1;32m----> 5\u001b[0m \u001b[38;5;28mint\u001b[39m(string)\n",
      "\u001b[1;31mValueError\u001b[0m: invalid literal for int() with base 10: '1,000,000'"
     ]
    }
   ],
   "source": [
    "#input:\"1,000,000\"\n",
    "#output: 1000000\n",
    "\n",
    "string = \"1,000,000\"\n",
    "int(string)\n",
    "\n"
   ]
  },
  {
   "cell_type": "code",
   "execution_count": 43,
   "id": "9a390712-b48a-41b4-8194-93df943141a5",
   "metadata": {
    "tags": []
   },
   "outputs": [
    {
     "ename": "SyntaxError",
     "evalue": "invalid syntax (2360304933.py, line 1)",
     "output_type": "error",
     "traceback": [
      "\u001b[1;36m  Cell \u001b[1;32mIn[43], line 1\u001b[1;36m\u001b[0m\n\u001b[1;33m    If a={5,6,7}:\u001b[0m\n\u001b[1;37m       ^\u001b[0m\n\u001b[1;31mSyntaxError\u001b[0m\u001b[1;31m:\u001b[0m invalid syntax\n"
     ]
    }
   ],
   "source": [
    "If a={5,6,7}:\n",
    "    a.add(5)"
   ]
  },
  {
   "cell_type": "code",
   "execution_count": 45,
   "id": "c4288640-140d-4241-b622-50acb48468ab",
   "metadata": {
    "tags": []
   },
   "outputs": [
    {
     "name": "stdout",
     "output_type": "stream",
     "text": [
      "{1, 2, 3, 4, 'hello', 'iota'}\n"
     ]
    }
   ],
   "source": [
    "a = {\"hello\",\"iota\",1,2,3}\n",
    "b = {1,2,3,4}\n",
    "set1 = a.union(b)\n",
    "print(set1)"
   ]
  },
  {
   "cell_type": "code",
   "execution_count": 50,
   "id": "9ceb6809-702d-4995-b9db-670222be66e8",
   "metadata": {
    "tags": []
   },
   "outputs": [
    {
     "name": "stdout",
     "output_type": "stream",
     "text": [
      "set()\n"
     ]
    }
   ],
   "source": [
    "HOD = {\"kratika\",\"krashanu yadav\",\"yadav\"}\n",
    "professor= {\"krashanu yadav\"}\n",
    "print(professor-HOD)"
   ]
  },
  {
   "cell_type": "code",
   "execution_count": 49,
   "id": "96a53ffd-b219-4615-885a-a16ddad7eec2",
   "metadata": {
    "tags": []
   },
   "outputs": [
    {
     "name": "stdout",
     "output_type": "stream",
     "text": [
      "set()\n"
     ]
    }
   ],
   "source": [
    "HOD = {\"kratika\", \"krashanu yadav\",\"rani\",\"yadav\"}\n",
    "professor = {\"krashanu yadav\",\"rani\"}\n",
    "professor.difference_update(HOD)\n",
    "print(professor)\n"
   ]
  },
  {
   "cell_type": "code",
   "execution_count": 51,
   "id": "6595fffc-baa9-40c4-a308-f972c024e8ac",
   "metadata": {
    "tags": []
   },
   "outputs": [
    {
     "name": "stdout",
     "output_type": "stream",
     "text": [
      "False,False\n"
     ]
    }
   ],
   "source": [
    "set1 = {10,20,30}\n",
    "set2 = {60,50,20,10}\n",
    "\n",
    "print(set1.issubset(set2),set2.issuperset(set1),sep=\",\")"
   ]
  },
  {
   "cell_type": "code",
   "execution_count": 52,
   "id": "4274d241-5764-438b-82b7-6b43ecc01974",
   "metadata": {
    "tags": []
   },
   "outputs": [
    {
     "ename": "NameError",
     "evalue": "name 'true' is not defined",
     "output_type": "error",
     "traceback": [
      "\u001b[1;31m---------------------------------------------------------------------------\u001b[0m",
      "\u001b[1;31mNameError\u001b[0m                                 Traceback (most recent call last)",
      "Cell \u001b[1;32mIn[52], line 1\u001b[0m\n\u001b[1;32m----> 1\u001b[0m set1 \u001b[38;5;241m=\u001b[39m {\u001b[38;5;241m1\u001b[39m,\u001b[38;5;124m\"\u001b[39m\u001b[38;5;124mPYnative\u001b[39m\u001b[38;5;124m\"\u001b[39m,(\u001b[38;5;124m\"\u001b[39m\u001b[38;5;124mabc\u001b[39m\u001b[38;5;124m\"\u001b[39m,\u001b[38;5;124m\"\u001b[39m\u001b[38;5;124mxyz\u001b[39m\u001b[38;5;124m\"\u001b[39m),true}\n\u001b[0;32m      2\u001b[0m \u001b[38;5;28mprint\u001b[39m(set1)\n",
      "\u001b[1;31mNameError\u001b[0m: name 'true' is not defined"
     ]
    }
   ],
   "source": [
    "set1 = {1,\"PYnative\",(\"abc\",\"xyz\"),true}\n",
    "print(set1)"
   ]
  },
  {
   "cell_type": "code",
   "execution_count": 53,
   "id": "d7a5d57c-c9c5-4f24-a0b1-cf8d476ea54b",
   "metadata": {
    "tags": []
   },
   "outputs": [
    {
     "name": "stdout",
     "output_type": "stream",
     "text": [
      "{'virat', 'jadeja', 'dhoni', 'kohli'}\n"
     ]
    }
   ],
   "source": [
    "sampleset = {\"dhoni\",\"kohli\"}\n",
    "sampleset.update([\"jadeja\",\"virat\"])\n",
    "print(sampleset)"
   ]
  },
  {
   "cell_type": "code",
   "execution_count": 55,
   "id": "c089deba-15c6-4040-9b64-666ce53636a3",
   "metadata": {
    "tags": []
   },
   "outputs": [
    {
     "name": "stdout",
     "output_type": "stream",
     "text": [
      "{'dhoni', 'kohli'}\n"
     ]
    }
   ],
   "source": [
    "set = {\"dhoni\",\"kohli\"}\n",
    "set.discard(\"virat\")\n",
    "print(set)"
   ]
  },
  {
   "cell_type": "code",
   "execution_count": 57,
   "id": "09cca16c-183f-4981-b13d-2b89eb06e64f",
   "metadata": {
    "tags": []
   },
   "outputs": [
    {
     "ename": "NameError",
     "evalue": "name 'np' is not defined",
     "output_type": "error",
     "traceback": [
      "\u001b[1;31m---------------------------------------------------------------------------\u001b[0m",
      "\u001b[1;31mNameError\u001b[0m                                 Traceback (most recent call last)",
      "Cell \u001b[1;32mIn[57], line 1\u001b[0m\n\u001b[1;32m----> 1\u001b[0m a \u001b[38;5;241m=\u001b[39m np\u001b[38;5;241m.\u001b[39marray((\u001b[38;5;241m1\u001b[39m,\u001b[38;5;241m2\u001b[39m,\u001b[38;5;241m3\u001b[39m,\u001b[38;5;241m4\u001b[39m))\n\u001b[0;32m      2\u001b[0m \u001b[38;5;28mtype\u001b[39m(a)\n",
      "\u001b[1;31mNameError\u001b[0m: name 'np' is not defined"
     ]
    }
   ],
   "source": [
    "a = np.array((1,2,3,4))\n",
    "type(a)"
   ]
  },
  {
   "cell_type": "code",
   "execution_count": null,
   "id": "81c7c1c6-d0fe-4b06-a3f5-eddae26c1065",
   "metadata": {},
   "outputs": [],
   "source": []
  }
 ],
 "metadata": {
  "kernelspec": {
   "display_name": "Python 3 (ipykernel)",
   "language": "python",
   "name": "python3"
  },
  "language_info": {
   "codemirror_mode": {
    "name": "ipython",
    "version": 3
   },
   "file_extension": ".py",
   "mimetype": "text/x-python",
   "name": "python",
   "nbconvert_exporter": "python",
   "pygments_lexer": "ipython3",
   "version": "3.11.4"
  }
 },
 "nbformat": 4,
 "nbformat_minor": 5
}
