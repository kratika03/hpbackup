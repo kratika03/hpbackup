{
 "cells": [
  {
   "cell_type": "code",
   "execution_count": 3,
   "id": "42ee8e56-126b-42d8-ba45-3691d55c5b89",
   "metadata": {
    "tags": []
   },
   "outputs": [
    {
     "name": "stdin",
     "output_type": "stream",
     "text": [
      "Enter the number of terms for Fibonacci sequence:  20\n"
     ]
    },
    {
     "name": "stdout",
     "output_type": "stream",
     "text": [
      "The Fibonacci sequence up to the 20-th term is:\n",
      "[0, 1, 1, 2, 3, 5, 8, 13, 21, 34, 55, 89, 144, 233, 377, 610, 987, 1597, 2584, 4181]\n"
     ]
    }
   ],
   "source": [
    "#Python program to display the fibonacci sequence up to n-th term using recursive function.\n",
    "\n",
    "def fibonacci_recursive(n):\n",
    "    if n <= 0:\n",
    "        return []\n",
    "    elif n == 1:\n",
    "        return [0]\n",
    "    elif n == 2:\n",
    "        return [0, 1]\n",
    "    else:\n",
    "        fib_list = fibonacci_recursive(n-1)\n",
    "        fib_list.append(fib_list[-1] + fib_list[-2])\n",
    "        return fib_list\n",
    "\n",
    "# Input the number of terms\n",
    "n = int(input(\"Enter the number of terms for Fibonacci sequence: \"))\n",
    "\n",
    " #Call the recursive function and display the result\n",
    "fib_sequence = fibonacci_recursive(n)\n",
    "print(f\"The Fibonacci sequence up to the {n}-th term is:\")\n",
    "print(fib_sequence)\n"
   ]
  },
  {
   "cell_type": "code",
   "execution_count": 17,
   "id": "4ea8947f-45b5-4b03-bc69-95003e56f94c",
   "metadata": {
    "tags": []
   },
   "outputs": [],
   "source": [
    "#Write a recursive function that compute the sum of number from 1 to n; get the value of last numbers(n) from user.\n",
    "\n",
    "def recursive_sum(n):\n",
    "    if n == 1:\n",
    "        return 1\n",
    "    else:\n",
    "        return n + recursive_sum(n - 1)\n",
    "\n",
    "# Get the value of 'n' from the user\n",
    "#n = int(input(\"Enter the value of 'n': \"))\n",
    "\n",
    "# Call the recursive function and display the result\n",
    "#result = recursive_sum(n)\n",
    "#print(f\"The sum of numbers from 1 to {n} is:\", result)\n",
    "\n",
    "#def recursive_sum(n):\n",
    "#    if n == 1:\n",
    " #       return 1\n",
    "  #  else:\n",
    "   #     return n+recursive_sum(n-1)\n",
    "        \n",
    "\n"
   ]
  },
  {
   "cell_type": "code",
   "execution_count": 5,
   "id": "80b63adf-7860-4dec-8884-c3275ec75685",
   "metadata": {
    "tags": []
   },
   "outputs": [],
   "source": [
    "# Make a login portal which allows maximum 3 wrong attempts.\n",
    "#Use pre-defined username and password to match inputs.\n",
    "#usr = 'admin' and password='12345'\n",
    "\n",
    "def login_portal(count=0):\n",
    "    while count < 2:\n",
    "        user_id = input(\"Enter user name\")\n",
    "        password = input(\"Enter password\")\n",
    "        if user_id==\"iota\" and password==\"indore\":\n",
    "            return \"successfull login\"\n",
    "        else:\n",
    "            print(\"wrong credentials\")\n",
    "            count=count+1\n",
    "            return login_portal(count)\n",
    "        "
   ]
  },
  {
   "cell_type": "code",
   "execution_count": 6,
   "id": "57791f6f-ba10-4491-b436-394d751c8ae9",
   "metadata": {
    "tags": []
   },
   "outputs": [
    {
     "name": "stdin",
     "output_type": "stream",
     "text": [
      "Enter user name iota\n",
      "Enter password indore\n"
     ]
    },
    {
     "data": {
      "text/plain": [
       "'successfull login'"
      ]
     },
     "execution_count": 6,
     "metadata": {},
     "output_type": "execute_result"
    }
   ],
   "source": [
    "login_portal()\n",
    "\n"
   ]
  },
  {
   "cell_type": "code",
   "execution_count": 7,
   "id": "318aa375-bfa8-4984-bed7-da162e6e5fa6",
   "metadata": {
    "tags": []
   },
   "outputs": [
    {
     "name": "stdout",
     "output_type": "stream",
     "text": [
      "The multiplication of all elements in the list is: 120\n"
     ]
    }
   ],
   "source": [
    "#Write a recursive code to find the multiplication of all elements of a list\n",
    "\n",
    "def recursive_multiply(lst):\n",
    "    if len(lst) == 0:\n",
    "        return 1\n",
    "    else:\n",
    "        return lst[0] * recursive_multiply(lst[1:])\n",
    "\n",
    "# Example usage\n",
    "my_list = [1, 2, 3, 4, 5]\n",
    "\n",
    "result = recursive_multiply(my_list)\n",
    "print(f\"The multiplication of all elements in the list is: {result}\")\n"
   ]
  },
  {
   "cell_type": "code",
   "execution_count": 11,
   "id": "8bc8e526-1f70-4c06-92e2-c8cf7d308286",
   "metadata": {
    "tags": []
   },
   "outputs": [
    {
     "name": "stdin",
     "output_type": "stream",
     "text": [
      "Enter a number:  23\n"
     ]
    },
    {
     "name": "stdout",
     "output_type": "stream",
     "text": [
      "23 is a prime number.\n"
     ]
    }
   ],
   "source": [
    "#Write a function that takes a number and tests if it is prime number using recursion.\n",
    "\n",
    "def is_prime(n, i=2):\n",
    "    if n <= 2:\n",
    "        return n == 2\n",
    "    if n % i == 0:\n",
    "        return False\n",
    "    if i * i > n:\n",
    "        return True\n",
    "    return is_prime(n, i + 1)\n",
    "\n",
    "# Example usage:\n",
    "num = int(input(\"Enter a number: \"))\n",
    "result = is_prime(num)\n",
    "if result:\n",
    "    print(f\"{num} is a prime number.\")\n",
    "else:\n",
    "    print(f\"{num} is not a prime number.\")\n"
   ]
  },
  {
   "cell_type": "code",
   "execution_count": 18,
   "id": "5950fdcb-4e99-4217-9627-b7ec260d573a",
   "metadata": {
    "tags": []
   },
   "outputs": [],
   "source": [
    "def recursive_sum(n):\n",
    "    if n == 1:\n",
    "        return 1\n",
    "    else:\n",
    "        return n + recursive_sum(n - 1)"
   ]
  },
  {
   "cell_type": "code",
   "execution_count": 22,
   "id": "f78855bf-d077-4fbf-90dc-92d006e42aa7",
   "metadata": {
    "tags": []
   },
   "outputs": [
    {
     "data": {
      "text/plain": [
       "210"
      ]
     },
     "execution_count": 22,
     "metadata": {},
     "output_type": "execute_result"
    }
   ],
   "source": [
    "recursive_sum(20)\n"
   ]
  },
  {
   "cell_type": "code",
   "execution_count": 25,
   "id": "1075a93c-55c4-4e77-9004-f4239705376e",
   "metadata": {
    "tags": []
   },
   "outputs": [],
   "source": [
    "import numpy as np"
   ]
  },
  {
   "cell_type": "code",
   "execution_count": 26,
   "id": "c2b0254c-24d4-448b-9542-6544eabb7072",
   "metadata": {
    "tags": []
   },
   "outputs": [
    {
     "name": "stdout",
     "output_type": "stream",
     "text": [
      "[1, 2, 3, 4]\n",
      "[1 2 3 4]\n",
      "<class 'numpy.ndarray'>\n"
     ]
    }
   ],
   "source": [
    "lst = [1,2,3,4]\n",
    "a = np.array([1,2,3,4])\n",
    "print(lst)\n",
    "print(a)\n",
    "print(type(a))"
   ]
  },
  {
   "cell_type": "code",
   "execution_count": 27,
   "id": "f56d33d7-3e69-45a9-adfb-29f5f619a6eb",
   "metadata": {
    "tags": []
   },
   "outputs": [
    {
     "name": "stdout",
     "output_type": "stream",
     "text": [
      "[[1 2 3]\n",
      " [4 5 6]]\n",
      "dimension of a: 2\n",
      "shape of a: (2, 3)\n",
      "size of a: 6\n"
     ]
    }
   ],
   "source": [
    "a = np.array([[1,2,3],[4,5,6]])\n",
    "\n",
    "print(a)\n",
    "\n",
    "print(\"dimension of a:\",a.ndim)\n",
    "\n",
    "print(\"shape of a:\",a.shape)\n",
    "\n",
    "print(\"size of a:\",a.size)"
   ]
  },
  {
   "cell_type": "code",
   "execution_count": 29,
   "id": "c896678d-8ec0-47d2-a17a-3ecb9a34bc3c",
   "metadata": {
    "tags": []
   },
   "outputs": [
    {
     "data": {
      "text/plain": [
       "array([[1, 2, 3],\n",
       "       [4, 5, 6]])"
      ]
     },
     "execution_count": 29,
     "metadata": {},
     "output_type": "execute_result"
    }
   ],
   "source": [
    "x = np.array([[1,2,3],[4,5,6]])\n",
    "x"
   ]
  },
  {
   "cell_type": "code",
   "execution_count": 34,
   "id": "2f6d7208-d25a-40d3-a72c-cad4961b1ba6",
   "metadata": {
    "tags": []
   },
   "outputs": [
    {
     "data": {
      "text/plain": [
       "array([2, 3])"
      ]
     },
     "execution_count": 34,
     "metadata": {},
     "output_type": "execute_result"
    }
   ],
   "source": [
    "x[0,1:]"
   ]
  },
  {
   "cell_type": "code",
   "execution_count": 38,
   "id": "d89492d7-8c59-40eb-9fe0-503047b27b62",
   "metadata": {
    "tags": []
   },
   "outputs": [
    {
     "data": {
      "text/plain": [
       "array([1, 2, 3, 4])"
      ]
     },
     "execution_count": 38,
     "metadata": {},
     "output_type": "execute_result"
    }
   ],
   "source": [
    "b = np.array([1,2,3,4])\n",
    "b"
   ]
  },
  {
   "cell_type": "code",
   "execution_count": 40,
   "id": "aa086153-5c6b-48d6-92d8-8985df42240f",
   "metadata": {
    "tags": []
   },
   "outputs": [
    {
     "name": "stdout",
     "output_type": "stream",
     "text": [
      "[0 1 2 3 4 5 6 7 8 9]\n",
      "[0 0 0 0 0 0 6 0 8 0]\n",
      "[0 0 0 0 0 0 6 0 8 0]\n"
     ]
    }
   ],
   "source": [
    "arr = np.arange(10)\n",
    "print(arr)\n",
    "\n",
    "filtered = np.where(((arr % 2 == 0) & (arr > 5)),arr,0)\n",
    "print(filtered)\n",
    "\n",
    "filtered = np.where(((arr % 2 == 0) & (arr > 5)),arr,0)\n",
    "print(filtered)\n"
   ]
  },
  {
   "cell_type": "code",
   "execution_count": null,
   "id": "ae3d9481-84fe-41ee-90a7-a14db86892d0",
   "metadata": {},
   "outputs": [],
   "source": []
  }
 ],
 "metadata": {
  "kernelspec": {
   "display_name": "Python 3 (ipykernel)",
   "language": "python",
   "name": "python3"
  },
  "language_info": {
   "codemirror_mode": {
    "name": "ipython",
    "version": 3
   },
   "file_extension": ".py",
   "mimetype": "text/x-python",
   "name": "python",
   "nbconvert_exporter": "python",
   "pygments_lexer": "ipython3",
   "version": "3.11.4"
  }
 },
 "nbformat": 4,
 "nbformat_minor": 5
}
