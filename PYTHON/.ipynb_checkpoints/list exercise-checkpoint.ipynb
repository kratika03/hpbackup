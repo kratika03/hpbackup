{
 "cells": [
  {
   "cell_type": "code",
   "execution_count": 1,
   "id": "e2a4e5ab-6e00-4a71-b4b3-ab517fb97ca0",
   "metadata": {
    "tags": []
   },
   "outputs": [
    {
     "name": "stdout",
     "output_type": "stream",
     "text": [
      "['IOTA', 500, 400, 300, 200, 100]\n"
     ]
    }
   ],
   "source": [
    "list1 = [100,200,300,400,500,\"IOTA\"]\n",
    "list1.reverse()\n",
    "print(list1)\n"
   ]
  },
  {
   "cell_type": "code",
   "execution_count": 27,
   "id": "28f93cfa-0f23-42f8-9f87-49ac10c211f1",
   "metadata": {
    "tags": []
   },
   "outputs": [
    {
     "name": "stdout",
     "output_type": "stream",
     "text": [
      "['My', 'name', 'is', 'IOTA']\n"
     ]
    }
   ],
   "source": [
    "list1 = [\"M\",\"na\",\"i\",\"IO\"]\n",
    "list2 = [\"y\",\"me\",\"s\",\"TA\"]\n",
    "list3 = []\n",
    "\n",
    "for i in range(len(list1)):\n",
    "    list3.append(list1[i]+list2[i])\n",
    "print(list3)"
   ]
  },
  {
   "cell_type": "code",
   "execution_count": 32,
   "id": "a9d1a6f7-4c48-45d4-a882-36c04637bc04",
   "metadata": {
    "tags": []
   },
   "outputs": [
    {
     "name": "stdout",
     "output_type": "stream",
     "text": [
      "[1][4][9][16][25][36][49][100]"
     ]
    }
   ],
   "source": [
    "n = [1,2,3,4,5,6,7,10]\n",
    "\n",
    "for i in n:\n",
    "    print([i ** 2],end = \"\")\n",
    "    \n",
    "\n"
   ]
  },
  {
   "cell_type": "code",
   "execution_count": 57,
   "id": "7e678638-2e4c-40bd-a327-75d9fe8b31de",
   "metadata": {
    "tags": []
   },
   "outputs": [
    {
     "name": "stdout",
     "output_type": "stream",
     "text": [
      "['HelloDear', 'Hellosir', 'TakeDear', 'Takesir']\n"
     ]
    }
   ],
   "source": [
    "list1 = [\"Hello\",\"Take\"]\n",
    "list2 = [\"Dear\",\"sir\"]\n",
    "list3 = []\n",
    "\n",
    "for i in list1:\n",
    "    for j in list2:\n",
    "        d = i + j\n",
    "        list3.append(d)\n",
    "        \n",
    "print(list3)\n",
    "\n"
   ]
  },
  {
   "cell_type": "code",
   "execution_count": 48,
   "id": "fcd7a2c0-59a4-4d2f-9dbb-91b552ffd25d",
   "metadata": {
    "tags": []
   },
   "outputs": [
    {
     "name": "stdout",
     "output_type": "stream",
     "text": [
      "10\n",
      "20\n",
      "30\n",
      "40\n",
      "100\n",
      "300\n",
      "300\n",
      "100\n"
     ]
    }
   ],
   "source": [
    "list1 = [10,20,30,40]\n",
    "list2 = [100,200,300,400]\n",
    "\n",
    "for i in list1:\n",
    "    print(i)\n",
    "for j in list2:\n",
    "    list2.reverse()\n",
    "    print(j)\n",
    "\n"
   ]
  },
  {
   "cell_type": "code",
   "execution_count": 59,
   "id": "b4867fa0-811c-4bc7-9cf7-c47bd02d6f2f",
   "metadata": {
    "tags": []
   },
   "outputs": [
    {
     "name": "stdout",
     "output_type": "stream",
     "text": [
      "['Dhawan', 'Jadeja', 'Dhoni', '', 'Kohali']\n"
     ]
    }
   ],
   "source": [
    "list1 = [\"Dhawan\",\"\", \"Jadeja\",\"Dhoni\",\"\",\"Kohali\"]\n",
    "list1.remove(\"\")\n",
    "print(list1)\n"
   ]
  },
  {
   "cell_type": "code",
   "execution_count": null,
   "id": "304a2a60-f506-4520-9276-9dc6c28eafed",
   "metadata": {},
   "outputs": [],
   "source": []
  }
 ],
 "metadata": {
  "kernelspec": {
   "display_name": "Python 3 (ipykernel)",
   "language": "python",
   "name": "python3"
  },
  "language_info": {
   "codemirror_mode": {
    "name": "ipython",
    "version": 3
   },
   "file_extension": ".py",
   "mimetype": "text/x-python",
   "name": "python",
   "nbconvert_exporter": "python",
   "pygments_lexer": "ipython3",
   "version": "3.11.4"
  }
 },
 "nbformat": 4,
 "nbformat_minor": 5
}
