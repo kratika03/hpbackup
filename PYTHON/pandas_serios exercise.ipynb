{
 "cells": [
  {
   "cell_type": "code",
   "execution_count": 15,
   "id": "16ee74ab-a8c6-4b3e-915c-f587b628be4f",
   "metadata": {
    "tags": []
   },
   "outputs": [],
   "source": [
    "import numpy as np\n",
    "import pandas as pd"
   ]
  },
  {
   "cell_type": "code",
   "execution_count": 59,
   "id": "282d313e-580f-4ede-92c5-b0247654eb5d",
   "metadata": {},
   "outputs": [
    {
     "name": "stdout",
     "output_type": "stream",
     "text": [
      "From List \n",
      "0    11\n",
      "1    22\n",
      "2    33\n",
      "3    44\n",
      "4    55\n",
      "dtype: int64 \n",
      "From Array\n",
      "0    11\n",
      "1    22\n",
      "2    33\n",
      "3    44\n",
      "4    55\n",
      "dtype: int32 \n",
      "From Dict\n",
      "a    11\n",
      "b    22\n",
      "c    33\n",
      "d    44\n",
      "e    55\n",
      "dtype: int64\n"
     ]
    }
   ],
   "source": [
    "#Create a series from a list, NumPy array, and dictionary with a minimum of 5 values in\n",
    "#each?\n",
    "my_list = [11,22,33,44,55]\n",
    "a= pd.Series(data=my_list)\n",
    "\n",
    "arr = np.array([11,22,33,44,55])\n",
    "b = pd.Series(arr)\n",
    "\n",
    "d = {'a': 11,'b':22,'c':33,'d':44,'e':55}\n",
    "c = pd.Series(d)\n",
    "\n",
    "print(f\"From List \\n{a}\",f\"\\nFrom Array\\n{b}\", f\"\\nFrom Dict\\n{c}\" )"
   ]
  },
  {
   "cell_type": "code",
   "execution_count": 21,
   "id": "fcc52b62-5910-4246-8daf-bd9a9f706e8f",
   "metadata": {
    "tags": []
   },
   "outputs": [
    {
     "data": {
      "text/plain": [
       "0    11\n",
       "1    22\n",
       "2    33\n",
       "3    44\n",
       "4    55\n",
       "dtype: int32"
      ]
     },
     "execution_count": 21,
     "metadata": {},
     "output_type": "execute_result"
    }
   ],
   "source": [
    "arr = np.array([11,22,33,44,55])\n",
    "pd.Series(arr)"
   ]
  },
  {
   "cell_type": "code",
   "execution_count": 22,
   "id": "58c20156-ca95-483b-91df-0cc93d932e4f",
   "metadata": {
    "tags": []
   },
   "outputs": [
    {
     "data": {
      "text/plain": [
       "a    11\n",
       "b    22\n",
       "c    33\n",
       "d    44\n",
       "e    55\n",
       "dtype: int64"
      ]
     },
     "execution_count": 22,
     "metadata": {},
     "output_type": "execute_result"
    }
   ],
   "source": [
    "d = {'a': 11,'b':22,'c':33,'d':44,'e':55}\n",
    "pd.Series(d)"
   ]
  },
  {
   "cell_type": "code",
   "execution_count": 30,
   "id": "626b3bc3-afc4-4b42-bf61-b36a2e235a79",
   "metadata": {
    "tags": []
   },
   "outputs": [
    {
     "data": {
      "text/plain": [
       "0    a\n",
       "1    e\n",
       "2    i\n",
       "3    o\n",
       "4    u\n",
       "Name: vowel, dtype: object"
      ]
     },
     "execution_count": 30,
     "metadata": {},
     "output_type": "execute_result"
    }
   ],
   "source": [
    "# Give a name to the series ser calling it vowel.\n",
    "\n",
    "df = pd.Series(list('aeiou'))\n",
    "df.name = 'vowel'\n",
    "df"
   ]
  },
  {
   "cell_type": "code",
   "execution_count": 38,
   "id": "08b3f218-c853-4ee4-ae18-c110230e4191",
   "metadata": {
    "tags": []
   },
   "outputs": [
    {
     "name": "stdout",
     "output_type": "stream",
     "text": [
      "a    3\n",
      "b    2\n",
      "c    1\n",
      "d    1\n",
      "e    1\n",
      "z    1\n",
      "dtype: int64\n"
     ]
    }
   ],
   "source": [
    "#How to get a frequency count of unique items of a series?\n",
    "#Calculate the frequency counts of each unique value ser.\n",
    "#Input:\n",
    "#ser = pd.Series([\"a\",\"a\",\"b\",\"c\",\"d\",\"e\",\"a\",\"b\",\"z\"])\n",
    "\n",
    "ser = pd.Series([\"a\",\"a\",\"b\",\"c\",\"d\",\"e\",\"a\",\"b\",\"z\"])\n",
    "#print(ser)\n",
    "print(ser.value_counts())"
   ]
  },
  {
   "cell_type": "code",
   "execution_count": 39,
   "id": "cd4b95f8-aa1a-4f99-a5ee-8762dfaffbe9",
   "metadata": {
    "tags": []
   },
   "outputs": [
    {
     "name": "stdout",
     "output_type": "stream",
     "text": [
      "0    3\n",
      "1    2\n",
      "2    4\n",
      "3    4\n",
      "dtype: int64\n"
     ]
    }
   ],
   "source": [
    "#How to calculate the number of characters in each word in a series?\n",
    "#Input:\n",
    "#ser = pd.Series(['how', 'to', 'kick', 'ass?'])\n",
    "\n",
    "ser = pd.Series(['how', 'to', 'kick', 'ass?'])\n",
    "dt = ser.map(lambda x: len(x))\n",
    "print(dt)\n",
    "             "
   ]
  },
  {
   "cell_type": "code",
   "execution_count": 40,
   "id": "708fde1a-1c19-4e40-bd85-028923100cf6",
   "metadata": {
    "tags": []
   },
   "outputs": [
    {
     "data": {
      "text/plain": [
       "A     5\n",
       "C    10\n",
       "B    15\n",
       "D    20\n",
       "E    25\n",
       "dtype: int64"
      ]
     },
     "execution_count": 40,
     "metadata": {},
     "output_type": "execute_result"
    }
   ],
   "source": [
    "#Write a program to order a series in ascending order\n",
    "#Input:\n",
    "#ser_data = pd.Series({'C': 10, 'A': 5, 'D': 20, 'B': 15, 'E': 25})\n",
    "\n",
    "ser_data = pd.Series({'C': 10, 'A': 5, 'D': 20, 'B': 15, 'E': 25})\n",
    "ser_data.sort_values()"
   ]
  },
  {
   "cell_type": "code",
   "execution_count": 46,
   "id": "9e09dfff-d08b-426a-98fc-dd0ecb16a6d8",
   "metadata": {
    "tags": []
   },
   "outputs": [
    {
     "data": {
      "text/plain": [
       "DatetimeIndex(['2021-05-01', '2021-05-02', '2021-05-03', '2021-05-04',\n",
       "               '2021-05-05', '2021-05-06', '2021-05-07', '2021-05-08',\n",
       "               '2021-05-09', '2021-05-10', '2021-05-11', '2021-05-12'],\n",
       "              dtype='datetime64[ns]', freq='D')"
      ]
     },
     "execution_count": 46,
     "metadata": {},
     "output_type": "execute_result"
    }
   ],
   "source": [
    "#WAP to generate the series of dates from 1st May, 2021 to 12th May, 2021\n",
    "\n",
    "sr = pd.date_range(start = '05-01-2021', end = '05-12-2021')\n",
    "sr"
   ]
  },
  {
   "cell_type": "code",
   "execution_count": 49,
   "id": "39a31022-0b31-4927-8e83-02a90b334901",
   "metadata": {
    "tags": []
   },
   "outputs": [
    {
     "name": "stdout",
     "output_type": "stream",
     "text": [
      "All sunday in 2023:\n"
     ]
    },
    {
     "data": {
      "text/plain": [
       "0    2023-01-01\n",
       "1    2023-01-08\n",
       "2    2023-01-15\n",
       "3    2023-01-22\n",
       "4    2023-01-29\n",
       "5    2023-02-05\n",
       "6    2023-02-12\n",
       "7    2023-02-19\n",
       "8    2023-02-26\n",
       "9    2023-03-05\n",
       "10   2023-03-12\n",
       "11   2023-03-19\n",
       "12   2023-03-26\n",
       "13   2023-04-02\n",
       "14   2023-04-09\n",
       "15   2023-04-16\n",
       "16   2023-04-23\n",
       "17   2023-04-30\n",
       "18   2023-05-07\n",
       "19   2023-05-14\n",
       "20   2023-05-21\n",
       "21   2023-05-28\n",
       "22   2023-06-04\n",
       "23   2023-06-11\n",
       "24   2023-06-18\n",
       "25   2023-06-25\n",
       "26   2023-07-02\n",
       "27   2023-07-09\n",
       "28   2023-07-16\n",
       "29   2023-07-23\n",
       "30   2023-07-30\n",
       "31   2023-08-06\n",
       "32   2023-08-13\n",
       "33   2023-08-20\n",
       "34   2023-08-27\n",
       "35   2023-09-03\n",
       "36   2023-09-10\n",
       "37   2023-09-17\n",
       "38   2023-09-24\n",
       "39   2023-10-01\n",
       "40   2023-10-08\n",
       "41   2023-10-15\n",
       "42   2023-10-22\n",
       "43   2023-10-29\n",
       "44   2023-11-05\n",
       "45   2023-11-12\n",
       "46   2023-11-19\n",
       "47   2023-11-26\n",
       "48   2023-12-03\n",
       "49   2023-12-10\n",
       "50   2023-12-17\n",
       "51   2023-12-24\n",
       "dtype: datetime64[ns]"
      ]
     },
     "execution_count": 49,
     "metadata": {},
     "output_type": "execute_result"
    }
   ],
   "source": [
    "# Write a Pandas program to create a TimeSeries to display all the Sundays of given year.\n",
    "\n",
    "sr = pd.Series(pd.date_range('2023-01-01',periods = 52, freq = 'w-sun'))\n",
    "print(\"All sunday in 2023:\")\n",
    "sr\n",
    "               "
   ]
  },
  {
   "cell_type": "code",
   "execution_count": null,
   "id": "6c17c1dd-af43-429d-874e-26f635eba9c8",
   "metadata": {},
   "outputs": [],
   "source": []
  }
 ],
 "metadata": {
  "kernelspec": {
   "display_name": "Python 3 (ipykernel)",
   "language": "python",
   "name": "python3"
  },
  "language_info": {
   "codemirror_mode": {
    "name": "ipython",
    "version": 3
   },
   "file_extension": ".py",
   "mimetype": "text/x-python",
   "name": "python",
   "nbconvert_exporter": "python",
   "pygments_lexer": "ipython3",
   "version": "3.11.4"
  }
 },
 "nbformat": 4,
 "nbformat_minor": 5
}
