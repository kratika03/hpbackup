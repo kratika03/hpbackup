{
 "cells": [
  {
   "cell_type": "code",
   "execution_count": 1,
   "id": "f15d71ac-6486-44c0-a6a7-0fbf69a9da52",
   "metadata": {
    "tags": []
   },
   "outputs": [],
   "source": [
    "iota=\"Data Analytics Institute\""
   ]
  },
  {
   "cell_type": "code",
   "execution_count": 2,
   "id": "46a36471-8da9-45a2-aacd-6b49a80384a1",
   "metadata": {
    "tags": []
   },
   "outputs": [],
   "source": [
    "x=y=z=44"
   ]
  },
  {
   "cell_type": "code",
   "execution_count": 3,
   "id": "71becb01-c504-4045-b386-271325ec607a",
   "metadata": {
    "tags": []
   },
   "outputs": [],
   "source": [
    "p,q,r=45,56,89"
   ]
  },
  {
   "cell_type": "code",
   "execution_count": 4,
   "id": "c8030ee3-fad6-4df2-8bec-57f3ec0c2304",
   "metadata": {
    "tags": []
   },
   "outputs": [
    {
     "name": "stdout",
     "output_type": "stream",
     "text": [
      "140712072093576\n"
     ]
    }
   ],
   "source": [
    "iota=100\n",
    "print(id(iota))"
   ]
  },
  {
   "cell_type": "code",
   "execution_count": 5,
   "id": "cac4216c-d070-4e89-a171-7b131ba7d237",
   "metadata": {
    "tags": []
   },
   "outputs": [
    {
     "name": "stdout",
     "output_type": "stream",
     "text": [
      "Data Analytics\n"
     ]
    }
   ],
   "source": [
    "iota='for Python'\n",
    "iota= 'Data Analytics'\n",
    "print(iota)"
   ]
  },
  {
   "cell_type": "code",
   "execution_count": null,
   "id": "82a44df3-7b4f-4f5f-82fe-c583092e17d7",
   "metadata": {},
   "outputs": [],
   "source": []
  }
 ],
 "metadata": {
  "kernelspec": {
   "display_name": "Python 3 (ipykernel)",
   "language": "python",
   "name": "python3"
  },
  "language_info": {
   "codemirror_mode": {
    "name": "ipython",
    "version": 3
   },
   "file_extension": ".py",
   "mimetype": "text/x-python",
   "name": "python",
   "nbconvert_exporter": "python",
   "pygments_lexer": "ipython3",
   "version": "3.11.4"
  }
 },
 "nbformat": 4,
 "nbformat_minor": 5
}
