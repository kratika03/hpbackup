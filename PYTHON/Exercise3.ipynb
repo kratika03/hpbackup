{
 "cells": [
  {
   "cell_type": "code",
   "execution_count": 1,
   "id": "4b94f517-7e0b-4309-9fd7-200ecaedae89",
   "metadata": {
    "tags": []
   },
   "outputs": [
    {
     "name": "stdin",
     "output_type": "stream",
     "text": [
      " 4\n",
      " 5\n"
     ]
    },
    {
     "name": "stdout",
     "output_type": "stream",
     "text": [
      "b = 5 is greater than a = 4\n"
     ]
    }
   ],
   "source": [
    "a=int(input())\n",
    "b=int(input())\n",
    "if a>b:\n",
    "    print(f\"a = {a} is greater than b = {b}\")\n",
    "else:\n",
    "    print(f\"b = {b} is greater than a = {a}\")  "
   ]
  },
  {
   "cell_type": "code",
   "execution_count": 2,
   "id": "a709b4bb-7900-49dc-8ca2-e8719684e414",
   "metadata": {
    "tags": []
   },
   "outputs": [
    {
     "name": "stdin",
     "output_type": "stream",
     "text": [
      " 2\n"
     ]
    },
    {
     "name": "stdout",
     "output_type": "stream",
     "text": [
      "2 is even\n"
     ]
    }
   ],
   "source": [
    "a=int(input())\n",
    "if a%2==0:\n",
    "    print(f\"{a} is even\")\n",
    "else:\n",
    "    print(f\"{a} is odd\")"
   ]
  },
  {
   "cell_type": "code",
   "execution_count": 3,
   "id": "d56cebf8-b1c2-40dc-be7d-beb1d2ed592f",
   "metadata": {
    "tags": []
   },
   "outputs": [
    {
     "name": "stdin",
     "output_type": "stream",
     "text": [
      " 3\n",
      " 4\n",
      " 5\n"
     ]
    },
    {
     "name": "stdout",
     "output_type": "stream",
     "text": [
      "c 5 is largest number\n"
     ]
    }
   ],
   "source": [
    "a= int(input())\n",
    "b= int(input())\n",
    "c= int(input())\n",
    "if a>b and a>c:\n",
    "    print(f\"a {a} is largest number\")\n",
    "elif b>c and b>a:\n",
    "    print(f\"b {b} is largest number\")\n",
    "else:\n",
    "    print(f\"c {c} is largest number\")"
   ]
  },
  {
   "cell_type": "code",
   "execution_count": 5,
   "id": "dc4a11fa-5c9d-450c-a775-d6dd3a582038",
   "metadata": {
    "tags": []
   },
   "outputs": [
    {
     "name": "stdin",
     "output_type": "stream",
     "text": [
      " 2\n"
     ]
    },
    {
     "name": "stdout",
     "output_type": "stream",
     "text": [
      "0_20\n"
     ]
    }
   ],
   "source": [
    "age= int(input())\n",
    "if age<0:\n",
    "    print(\"Please enter correct age\")\n",
    "elif age<=20:\n",
    "    print(\"0_20\")\n",
    "elif age<=40:\n",
    "    print(\"21_40\")\n",
    "elif age<=60:\n",
    "    print(\"41_60\")\n",
    "else:\n",
    "    print(\"above 60\")"
   ]
  },
  {
   "cell_type": "code",
   "execution_count": 6,
   "id": "e745b9bf-bbf1-417d-8542-92b01d74e76c",
   "metadata": {
    "tags": []
   },
   "outputs": [
    {
     "name": "stdin",
     "output_type": "stream",
     "text": [
      "enter first number 2\n",
      "enter operator +\n",
      "enter second number 3\n"
     ]
    },
    {
     "name": "stdout",
     "output_type": "stream",
     "text": [
      "5.0\n"
     ]
    }
   ],
   "source": [
    "a=float(input('enter first number'))\n",
    "c=input('enter operator')\n",
    "b=float(input('enter second number'))\n",
    "if c==\"+\":\n",
    "    print(a+b)\n",
    "elif c==\"*\":\n",
    "    print(a*b)\n",
    "elif c==\"/\":\n",
    "    print(a/b)\n",
    "elif c==\"-\":\n",
    "    print(a-b)"
   ]
  },
  {
   "cell_type": "code",
   "execution_count": null,
   "id": "534e9b92-b1b9-4315-b390-d8dc0c2a4d9c",
   "metadata": {},
   "outputs": [],
   "source": []
  }
 ],
 "metadata": {
  "kernelspec": {
   "display_name": "Python 3 (ipykernel)",
   "language": "python",
   "name": "python3"
  },
  "language_info": {
   "codemirror_mode": {
    "name": "ipython",
    "version": 3
   },
   "file_extension": ".py",
   "mimetype": "text/x-python",
   "name": "python",
   "nbconvert_exporter": "python",
   "pygments_lexer": "ipython3",
   "version": "3.11.4"
  }
 },
 "nbformat": 4,
 "nbformat_minor": 5
}
