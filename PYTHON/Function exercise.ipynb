{
 "cells": [
  {
   "cell_type": "code",
   "execution_count": 1,
   "id": "b72a2e6d-8c2b-44b6-8c60-9ed177a11a26",
   "metadata": {
    "tags": []
   },
   "outputs": [],
   "source": [
    "def add(x,y):\n",
    "    return x+y"
   ]
  },
  {
   "cell_type": "code",
   "execution_count": 3,
   "id": "83c8477f-a5a4-47bf-977d-0b3121d8022a",
   "metadata": {
    "tags": []
   },
   "outputs": [
    {
     "data": {
      "text/plain": [
       "253"
      ]
     },
     "execution_count": 3,
     "metadata": {},
     "output_type": "execute_result"
    }
   ],
   "source": [
    "list1 = [23,32,12,56,43,87]\n",
    "from functools import reduce\n",
    "reduce(add,list1)"
   ]
  },
  {
   "cell_type": "code",
   "execution_count": 2,
   "id": "68f9a985-a675-48ae-91ab-fba353c9b708",
   "metadata": {
    "tags": []
   },
   "outputs": [],
   "source": [
    "#Factorial function:WAP which takes a integer as a arguments and return the factorial it as answer. \n",
    "\n",
    "def factorial(n):\n",
    "    if n < 0:\n",
    "        return \"Factorial is not defined for negative numbers\"\n",
    "    elif n == 0 or n == 1:\n",
    "        return 1\n",
    "    else:\n",
    "        result = 1\n",
    "        for i in range(2, n+1):\n",
    "            result *= i\n",
    "        return result\n",
    "\n"
   ]
  },
  {
   "cell_type": "code",
   "execution_count": 5,
   "id": "e734a7ed-b128-4ff3-8d32-9b076fd0ec80",
   "metadata": {
    "tags": []
   },
   "outputs": [
    {
     "data": {
      "text/plain": [
       "120"
      ]
     },
     "execution_count": 5,
     "metadata": {},
     "output_type": "execute_result"
    }
   ],
   "source": [
    "factorial(5)"
   ]
  },
  {
   "cell_type": "code",
   "execution_count": 7,
   "id": "ba60f6b1-cee3-408f-8904-699545a46e12",
   "metadata": {
    "tags": []
   },
   "outputs": [],
   "source": [
    "#Fibonacci serious:WAP which takes nth_terms as a arguments and returns its value.\n",
    "\n",
    "def fibonacci(n):\n",
    "    if n <= 0:\n",
    "        return \"Input should be a positive integer.\"\n",
    "    elif n == 1:\n",
    "        return 0\n",
    "    elif n == 2:\n",
    "        return 1\n",
    "    else:\n",
    "        fib_1, fib_2 = 0, 1\n",
    "        for _ in range(2, n):\n",
    "            fib_1, fib_2 = fib_2, fib_1 + fib_2\n",
    "        return fib_2\n",
    "\n"
   ]
  },
  {
   "cell_type": "code",
   "execution_count": 8,
   "id": "0dd2cf40-c01c-4629-92fa-07d79a12a48d",
   "metadata": {
    "tags": []
   },
   "outputs": [
    {
     "data": {
      "text/plain": [
       "3"
      ]
     },
     "execution_count": 8,
     "metadata": {},
     "output_type": "execute_result"
    }
   ],
   "source": [
    "fibonacci(5)\n"
   ]
  },
  {
   "cell_type": "code",
   "execution_count": 25,
   "id": "2f89c9cb-dcc0-440e-a367-dfc2a6ff44be",
   "metadata": {
    "tags": []
   },
   "outputs": [],
   "source": [
    "#isPrime Function:For telling whether the number is prime or not.\n",
    "\n",
    "def isPrime(n):\n",
    "    if n <= 1:\n",
    "        return False\n",
    "    elif n == 2:\n",
    "        return True\n",
    "    elif n % 2 == 0:\n",
    "        return False\n",
    "    else:\n",
    "         for i in range(2,n):\n",
    "            if n%i==0:\n",
    "                return False\n",
    "            return True\n",
    "\n",
    "    "
   ]
  },
  {
   "cell_type": "code",
   "execution_count": 26,
   "id": "b8b00714-31f6-4c9c-80de-3e1b31d99e30",
   "metadata": {
    "tags": []
   },
   "outputs": [
    {
     "data": {
      "text/plain": [
       "True"
      ]
     },
     "execution_count": 26,
     "metadata": {},
     "output_type": "execute_result"
    }
   ],
   "source": [
    "isPrime(5)"
   ]
  },
  {
   "cell_type": "code",
   "execution_count": 13,
   "id": "491d920f-6ec5-4cb5-80e2-5ea158b69c84",
   "metadata": {},
   "outputs": [
    {
     "name": "stdout",
     "output_type": "stream",
     "text": [
      "select option\n",
      "1.addition\n",
      "2.subtract\n",
      "3.multiply\n",
      "4.division\n"
     ]
    },
    {
     "name": "stdin",
     "output_type": "stream",
     "text": [
      "Enter choice 1/2/3/4 3\n",
      "Enter first number: 6\n",
      "Enter second number: 7\n"
     ]
    },
    {
     "name": "stdout",
     "output_type": "stream",
     "text": [
      "Multiplication of 6.0 and 7.0 is 42.0\n"
     ]
    }
   ],
   "source": [
    "#Basic Calculator Function: Write a function which takes equation of two numbers and one operator (+,-, /, *) as input and return the\n",
    "#correct answer.\n",
    "\n",
    "def add(a,b):\n",
    "    return(a+b)\n",
    "\n",
    "def multiply(a,b):\n",
    "    return(a*b)\n",
    "\n",
    "def subtract(a,b):\n",
    "    return(a-b)\n",
    "\n",
    "def divison(a,b):\n",
    "    return(a/b)\n",
    "\n",
    "print(\"select option\")\n",
    "print(\"1.addition\")\n",
    "print(\"2.subtract\")\n",
    "print(\"3.multiply\")\n",
    "print(\"4.division\")\n",
    "\n",
    "choice = int(input(\"Enter choice 1/2/3/4\"))\n",
    "num1 = float(input(\"Enter first number:\"))\n",
    "num2 = float(input(\"Enter second number:\"))\n",
    "if choice == 1:\n",
    "     print(f\"Addition of {num1} and {num2} is {add(num1, num2)}\")\n",
    "elif choice == 2:\n",
    "     print(f\"Subtraction of {num1} and {num2} is {subtract(num1, num2)}\")\n",
    "elif choice == 3:\n",
    "     print(f\"Multiplication of {num1} and {num2} is {multiply(num1, num2)}\")\n",
    "elif choice == 4:\n",
    "     print(f\"Division of {num1} and {num2} is {division(num1, num2)}\")\n",
    "else:\n",
    "     print(\"Invalid Choice\") \n"
   ]
  },
  {
   "cell_type": "code",
   "execution_count": null,
   "id": "2a6edcd2-d540-4354-aee7-47b2bda43b03",
   "metadata": {},
   "outputs": [],
   "source": []
  }
 ],
 "metadata": {
  "kernelspec": {
   "display_name": "Python 3 (ipykernel)",
   "language": "python",
   "name": "python3"
  },
  "language_info": {
   "codemirror_mode": {
    "name": "ipython",
    "version": 3
   },
   "file_extension": ".py",
   "mimetype": "text/x-python",
   "name": "python",
   "nbconvert_exporter": "python",
   "pygments_lexer": "ipython3",
   "version": "3.11.4"
  }
 },
 "nbformat": 4,
 "nbformat_minor": 5
}
